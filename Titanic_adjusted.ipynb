{
 "cells": [
  {
   "cell_type": "code",
   "execution_count": 1,
   "metadata": {},
   "outputs": [],
   "source": [
    "import pandas as pd\n",
    "import numpy as np"
   ]
  },
  {
   "cell_type": "code",
   "execution_count": 54,
   "metadata": {},
   "outputs": [],
   "source": [
    "df_test = pd.read_csv(r'C:\\Users\\racco\\Documents\\DataScience\\Python_Datasets\\test.csv')\n",
    "df_train = pd.read_csv(r'C:\\Users\\racco\\Documents\\DataScience\\Python_Datasets\\train.csv')"
   ]
  },
  {
   "cell_type": "code",
   "execution_count": 3,
   "metadata": {},
   "outputs": [
    {
     "name": "stdout",
     "output_type": "stream",
     "text": [
      "(891, 12)\n"
     ]
    },
    {
     "data": {
      "text/plain": [
       "Index(['PassengerId', 'Survived', 'Pclass', 'Name', 'Sex', 'Age', 'SibSp',\n",
       "       'Parch', 'Ticket', 'Fare', 'Cabin', 'Embarked'],\n",
       "      dtype='object')"
      ]
     },
     "execution_count": 3,
     "metadata": {},
     "output_type": "execute_result"
    }
   ],
   "source": [
    "print(df_train.shape)\n",
    "df_train.columns"
   ]
  },
  {
   "cell_type": "code",
   "execution_count": 4,
   "metadata": {},
   "outputs": [
    {
     "name": "stdout",
     "output_type": "stream",
     "text": [
      "(418, 11)\n"
     ]
    },
    {
     "data": {
      "text/plain": [
       "Index(['PassengerId', 'Pclass', 'Name', 'Sex', 'Age', 'SibSp', 'Parch',\n",
       "       'Ticket', 'Fare', 'Cabin', 'Embarked'],\n",
       "      dtype='object')"
      ]
     },
     "execution_count": 4,
     "metadata": {},
     "output_type": "execute_result"
    }
   ],
   "source": [
    "print(df_test.shape)\n",
    "df_test.columns"
   ]
  },
  {
   "cell_type": "code",
   "execution_count": 5,
   "metadata": {},
   "outputs": [
    {
     "data": {
      "text/plain": [
       "687"
      ]
     },
     "execution_count": 5,
     "metadata": {},
     "output_type": "execute_result"
    }
   ],
   "source": [
    "#df_train.isnull().sum() # Age、Cabin needs Imputation\n",
    "df_train['Cabin'].isnull().sum()"
   ]
  },
  {
   "cell_type": "code",
   "execution_count": 6,
   "metadata": {},
   "outputs": [],
   "source": [
    "'''人數相關'''\n",
    "df_train['fam_size'] = df_train['SibSp'] + df_train['Parch'] + 1\n",
    "df_train['Alone'] = (df_train['fam_size']==1)\n",
    "df_train['Alone'] = df_train['Alone'].astype(int)\n",
    "'''種類'''\n",
    "df_train['Deck'] = df_train['Cabin'].str.slice(0, 1)\n",
    "df_train['Deck'] = pd.Categorical(df_train['Deck'], \n",
    "                                  categories = ['A', 'B', 'C', 'D', 'E', 'F', 'G', 'T', 'Z'])\n",
    "'''人名/稱謂'''\n",
    "df_train['Title'] = df_train.Name.str.split(', ').str[1].str.split('.').str[0].str.strip()\n",
    "df_train['Title'] = df_train['Title'].replace('Ms','Miss')\n",
    "df_train['Title'] = df_train['Title'].replace('Mlle','Miss')\n",
    "df_train['Title'] = df_train['Title'].replace('Mme','Mrs')\n",
    "title_mask = (df_train['Title'] != 'Mr') | (df_train['Title'] != 'Miss') #| (df_train['Title'] != 'Mrs')\n",
    "df_train.loc[title_mask, 'Title'] = 'Titled'\n",
    "df_train['Embarked'] = df_train['Embarked'].fillna('S')\n",
    "df_train['Embarked'] = df_train['Embarked'].astype(str)\n",
    "'''狀態'''\n",
    "df_train['Married_F'] = (df_train['Title'] != 'Miss') & (df_train['Sex'] == 'female')\n",
    "df_train['Married_F'] = df_train['Married_F'].astype(int)\n",
    "df_train['fam_Class'] = df_train['fam_size'] * df_train['Pclass']\n",
    "df_train['fare_perp'] = df_train['Fare']/df_train['fam_size']"
   ]
  },
  {
   "cell_type": "code",
   "execution_count": 7,
   "metadata": {},
   "outputs": [
    {
     "name": "stdout",
     "output_type": "stream",
     "text": [
      "(891, 17) \n",
      " Index(['Survived', 'Pclass', 'Age', 'SibSp', 'Parch', 'Fare', 'fam_size',\n",
      "       'Alone', 'Married_F', 'fam_Class', 'fare_perp', 'Embarked_C',\n",
      "       'Embarked_Q', 'Embarked_S', 'Sex_female', 'Sex_male', 'Title_Titled'],\n",
      "      dtype='object')\n"
     ]
    }
   ],
   "source": [
    "df_new = pd.get_dummies(df_train, columns = ['Embarked', 'Sex', 'Title'], dummy_na = False) # , 'Classed_Age'\n",
    "df_new = df_new.drop(['Cabin', 'PassengerId', 'Ticket', 'Name', 'Deck'], axis = 1)\n",
    "print(df_new.shape, '\\n', df_new.columns)"
   ]
  },
  {
   "cell_type": "code",
   "execution_count": 8,
   "metadata": {},
   "outputs": [
    {
     "data": {
      "text/plain": [
       "Survived          0\n",
       "Pclass            0\n",
       "Age             177\n",
       "SibSp             0\n",
       "Parch             0\n",
       "Fare              0\n",
       "fam_size          0\n",
       "Alone             0\n",
       "Married_F         0\n",
       "fam_Class         0\n",
       "fare_perp         0\n",
       "Embarked_C        0\n",
       "Embarked_Q        0\n",
       "Embarked_S        0\n",
       "Sex_female        0\n",
       "Sex_male          0\n",
       "Title_Titled      0\n",
       "dtype: int64"
      ]
     },
     "execution_count": 8,
     "metadata": {},
     "output_type": "execute_result"
    }
   ],
   "source": [
    "df_new.isnull().sum() # Age"
   ]
  },
  {
   "cell_type": "markdown",
   "metadata": {},
   "source": [
    "## Impute Age with KNN Method"
   ]
  },
  {
   "cell_type": "code",
   "execution_count": 9,
   "metadata": {},
   "outputs": [],
   "source": [
    "from sklearn.neighbors import KNeighborsRegressor\n",
    "x = df_new.drop('Survived', axis = 1)\n",
    "age_na_x = x[x['Age'].isna()].drop('Age', axis = 1)\n",
    "age_nna_x = x[~x['Age'].isna()].drop('Age', axis = 1)\n",
    "age_nna_y = x[~x['Age'].isna()]['Age']\n",
    "age_imp = KNeighborsRegressor(n_neighbors = 10)\n",
    "age_imp.fit(np.array(age_nna_x), np.array(age_nna_y))\n",
    "age_pred = age_imp.predict(np.array(age_na_x))"
   ]
  },
  {
   "cell_type": "code",
   "execution_count": 37,
   "metadata": {},
   "outputs": [],
   "source": [
    "#age_pred.tolist()"
   ]
  },
  {
   "cell_type": "code",
   "execution_count": 10,
   "metadata": {},
   "outputs": [],
   "source": [
    "df_new.loc[df_new['Age'].isnull(), 'Age'] = age_pred"
   ]
  },
  {
   "cell_type": "code",
   "execution_count": 11,
   "metadata": {},
   "outputs": [],
   "source": [
    "df_new['Age_M'] = df_new['Age']*df_new['Sex_male']\n",
    "df_new['Age_F'] = df_new['Age']*df_new['Sex_female']\n",
    "df_new['M_Alone'] = df_new['Alone']*df_new['Sex_male']\n",
    "df_new['F_Alone'] = df_new['Alone']*df_new['Sex_female']"
   ]
  },
  {
   "cell_type": "code",
   "execution_count": 43,
   "metadata": {},
   "outputs": [],
   "source": [
    "#df_new.isnull().sum()"
   ]
  },
  {
   "cell_type": "code",
   "execution_count": 12,
   "metadata": {},
   "outputs": [
    {
     "name": "stdout",
     "output_type": "stream",
     "text": [
      "Accuracy:  0.8100558659217877\n",
      "Precision:  0.7464788732394366\n",
      "Confusion Matrix:\n",
      " [[92 18]\n",
      " [16 53]]\n",
      "             precision    recall  f1-score   support\n",
      "\n",
      "          0       0.85      0.84      0.84       110\n",
      "          1       0.75      0.77      0.76        69\n",
      "\n",
      "avg / total       0.81      0.81      0.81       179\n",
      "\n"
     ]
    }
   ],
   "source": [
    "from sklearn.neighbors import KNeighborsClassifier\n",
    "from sklearn.model_selection import train_test_split \n",
    "from sklearn.metrics import accuracy_score, precision_score, confusion_matrix, classification_report\n",
    "Y = df_new['Survived']\n",
    "X = df_new.drop(['Survived'], axis = 1)\n",
    "X_train, X_test, Y_train, Y_test = train_test_split(X, Y, test_size = 0.2, random_state = 0)\n",
    "clf = KNeighborsClassifier(n_neighbors = 50)\n",
    "clf.fit(X_train, Y_train)\n",
    "Y_pred = clf.predict(X_test)\n",
    "\n",
    "print(\"Accuracy: \", accuracy_score(Y_test, Y_pred))\n",
    "print(\"Precision: \", precision_score(Y_test, Y_pred))\n",
    "print(\"Confusion Matrix:\\n\", confusion_matrix(Y_test, Y_pred))\n",
    "print(classification_report(Y_test, Y_pred))"
   ]
  },
  {
   "cell_type": "code",
   "execution_count": 51,
   "metadata": {},
   "outputs": [
    {
     "data": {
      "text/plain": [
       "Index(['PassengerId', 'Pclass', 'Name', 'Age', 'SibSp', 'Parch', 'Ticket',\n",
       "       'Fare', 'Cabin', 'fam_size', 'Alone', 'Deck', 'Married_F', 'fam_Class',\n",
       "       'fare_perp', 'Embarked_C', 'Embarked_Q', 'Embarked_S', 'Sex_female',\n",
       "       'Sex_male', 'Title_Titled'],\n",
       "      dtype='object')"
      ]
     },
     "execution_count": 51,
     "metadata": {},
     "output_type": "execute_result"
    }
   ],
   "source": [
    "df_new.columns"
   ]
  },
  {
   "cell_type": "code",
   "execution_count": 13,
   "metadata": {},
   "outputs": [],
   "source": [
    "from sklearn.svm import SVC\n",
    "\n",
    "svclassifier = SVC() #kernel = 'poly')\n",
    "svclassifier.fit(X, Y)\n",
    "Y_pred = svclassifier.predict(X_test)"
   ]
  },
  {
   "cell_type": "code",
   "execution_count": 14,
   "metadata": {},
   "outputs": [
    {
     "name": "stdout",
     "output_type": "stream",
     "text": [
      "Accuracy:  0.9329608938547486\n",
      "Precision:  0.9253731343283582\n",
      "Confusion Matrix:\n",
      " [[105   5]\n",
      " [  7  62]]\n",
      "             precision    recall  f1-score   support\n",
      "\n",
      "          0       0.94      0.95      0.95       110\n",
      "          1       0.93      0.90      0.91        69\n",
      "\n",
      "avg / total       0.93      0.93      0.93       179\n",
      "\n"
     ]
    }
   ],
   "source": [
    "print(\"Accuracy: \", accuracy_score(Y_test, Y_pred))\n",
    "print(\"Precision: \", precision_score(Y_test, Y_pred))\n",
    "print(\"Confusion Matrix:\\n\", confusion_matrix(Y_test, Y_pred))\n",
    "print(classification_report(Y_test, Y_pred))\n"
   ]
  },
  {
   "cell_type": "code",
   "execution_count": 16,
   "metadata": {},
   "outputs": [
    {
     "data": {
      "text/html": [
       "<div>\n",
       "<style scoped>\n",
       "    .dataframe tbody tr th:only-of-type {\n",
       "        vertical-align: middle;\n",
       "    }\n",
       "\n",
       "    .dataframe tbody tr th {\n",
       "        vertical-align: top;\n",
       "    }\n",
       "\n",
       "    .dataframe thead th {\n",
       "        text-align: right;\n",
       "    }\n",
       "</style>\n",
       "<table border=\"1\" class=\"dataframe\">\n",
       "  <thead>\n",
       "    <tr style=\"text-align: right;\">\n",
       "      <th></th>\n",
       "      <th>PassengerId</th>\n",
       "      <th>Pclass</th>\n",
       "      <th>Name</th>\n",
       "      <th>Sex</th>\n",
       "      <th>Age</th>\n",
       "      <th>SibSp</th>\n",
       "      <th>Parch</th>\n",
       "      <th>Ticket</th>\n",
       "      <th>Fare</th>\n",
       "      <th>Cabin</th>\n",
       "      <th>Embarked</th>\n",
       "    </tr>\n",
       "  </thead>\n",
       "  <tbody>\n",
       "    <tr>\n",
       "      <th>0</th>\n",
       "      <td>892</td>\n",
       "      <td>3</td>\n",
       "      <td>Kelly, Mr. James</td>\n",
       "      <td>male</td>\n",
       "      <td>34.5</td>\n",
       "      <td>0</td>\n",
       "      <td>0</td>\n",
       "      <td>330911</td>\n",
       "      <td>7.8292</td>\n",
       "      <td>NaN</td>\n",
       "      <td>Q</td>\n",
       "    </tr>\n",
       "  </tbody>\n",
       "</table>\n",
       "</div>"
      ],
      "text/plain": [
       "   PassengerId  Pclass              Name   Sex   Age  SibSp  Parch  Ticket  \\\n",
       "0          892       3  Kelly, Mr. James  male  34.5      0      0  330911   \n",
       "\n",
       "     Fare Cabin Embarked  \n",
       "0  7.8292   NaN        Q  "
      ]
     },
     "execution_count": 16,
     "metadata": {},
     "output_type": "execute_result"
    }
   ],
   "source": [
    "df_test.head(1)"
   ]
  },
  {
   "cell_type": "code",
   "execution_count": 55,
   "metadata": {},
   "outputs": [
    {
     "data": {
      "text/plain": [
       "PassengerId      0\n",
       "Pclass           0\n",
       "Name             0\n",
       "Sex              0\n",
       "Age             86\n",
       "SibSp            0\n",
       "Parch            0\n",
       "Ticket           0\n",
       "Fare             1\n",
       "Cabin          327\n",
       "Embarked         0\n",
       "dtype: int64"
      ]
     },
     "execution_count": 55,
     "metadata": {},
     "output_type": "execute_result"
    }
   ],
   "source": [
    "df_test.isnull().sum()"
   ]
  },
  {
   "cell_type": "code",
   "execution_count": 56,
   "metadata": {},
   "outputs": [],
   "source": [
    "'''人數相關'''\n",
    "df_test['fam_size'] = df_test['SibSp'] + df_test['Parch'] + 1\n",
    "df_test['Alone'] = (df_test['fam_size']==1)\n",
    "df_test['Alone'] = df_test['Alone'].astype(int)\n",
    "'''種類'''\n",
    "df_test['Deck'] = df_test['Cabin'].str.slice(0, 1)\n",
    "df_test['Deck'] = pd.Categorical(df_test['Deck'], \n",
    "                                  categories = ['A', 'B', 'C', 'D', 'E', 'F', 'G', 'T', 'Z'])\n",
    "'''人名/稱謂'''\n",
    "df_test['Title'] = df_test.Name.str.split(', ').str[1].str.split('.').str[0].str.strip()\n",
    "df_test['Title'] = df_test['Title'].replace('Ms','Miss')\n",
    "df_test['Title'] = df_test['Title'].replace('Mlle','Miss')\n",
    "df_test['Title'] = df_test['Title'].replace('Mme','Mrs')\n",
    "title_mask = (df_test['Title'] != 'Mr') | (df_test['Title'] != 'Miss') #| (df_train['Title'] != 'Mrs')\n",
    "df_test.loc[title_mask, 'Title'] = 'Titled'\n",
    "df_test['Embarked'] = df_test['Embarked'].fillna('S')\n",
    "df_test['Embarked'] = df_test['Embarked'].astype(str)\n",
    "'''狀態'''\n",
    "df_test['Married_F'] = (df_test['Title'] != 'Miss') & (df_test['Sex'] == 'female')\n",
    "df_test['Married_F'] = df_test['Married_F'].astype(int)\n",
    "df_test['fam_Class'] = df_test['fam_size'] * df_test['Pclass']\n",
    "df_test['fare_perp'] = df_test['Fare']/df_test['fam_size']"
   ]
  },
  {
   "cell_type": "code",
   "execution_count": 41,
   "metadata": {},
   "outputs": [],
   "source": [
    "#test_age_nna_x.isnull().sum()"
   ]
  },
  {
   "cell_type": "code",
   "execution_count": 57,
   "metadata": {},
   "outputs": [],
   "source": [
    "df_test = pd.get_dummies(df_test, columns = ['Embarked', 'Sex', 'Title'], dummy_na = False)\n",
    "test_imp_age = df_test.drop(['Cabin', 'PassengerId', 'Ticket', 'Name', 'Deck', 'Fare', 'fare_perp'], \n",
    "                            axis = 1)\n",
    "test_age_na_x = test_imp_age[test_imp_age['Age'].isna()].drop('Age', axis = 1)\n",
    "test_age_nna_x = test_imp_age[~test_imp_age['Age'].isna()].drop('Age', axis = 1)\n",
    "test_age_nna_y = test_imp_age[~test_imp_age['Age'].isna()]['Age']\n",
    "test_age_imp = KNeighborsRegressor(n_neighbors = 10)\n",
    "test_age_imp.fit(np.array(test_age_nna_x), np.array(test_age_nna_y))\n",
    "test_age_pred = test_age_imp.predict(np.array(test_age_na_x))\n",
    "df_test.loc[df_test['Age'].isnull(), 'Age'] = test_age_pred\n",
    "df_test['Age_M'] = df_test['Age']*df_test['Sex_male']\n",
    "df_test['Age_F'] = df_test['Age']*df_test['Sex_female']\n",
    "df_test['M_Alone'] = df_test['Alone']*df_test['Sex_male']\n",
    "df_test['F_Alone'] = df_test['Alone']*df_test['Sex_female']"
   ]
  },
  {
   "cell_type": "code",
   "execution_count": 58,
   "metadata": {},
   "outputs": [],
   "source": [
    "test_imp_cab = df_test.drop(['PassengerId', 'Ticket', 'Name', 'Deck', 'Fare', 'fare_perp'], \n",
    "                            axis = 1)\n",
    "test_cab_na_x = test_imp_cab[test_imp_cab['Cabin'].isna()].drop('Cabin', axis = 1)\n",
    "test_cab_nna_x = test_imp_cab[~test_imp_cab['Cabin'].isna()].drop('Cabin', axis = 1)\n",
    "test_cab_nna_y = test_imp_cab[~test_imp_cab['Cabin'].isna()]['Cabin']\n",
    "test_cab_imp = KNeighborsClassifier(n_neighbors = 50)\n",
    "test_cab_imp.fit(np.array(test_cab_nna_x), np.array(test_cab_nna_y))\n",
    "test_cab_pred = test_cab_imp.predict(np.array(test_cab_na_x))\n",
    "df_test.loc[df_test['Cabin'].isnull(), 'Cabin'] = test_cab_pred"
   ]
  },
  {
   "cell_type": "code",
   "execution_count": 52,
   "metadata": {},
   "outputs": [],
   "source": [
    "'''df_test = pd.get_dummies(df_test, columns = ['Cabin'], dummy_na = False)\n",
    "test_imp_dek = df_test.drop(['PassengerId', 'Ticket', 'Name', 'Fare', 'fare_perp'], \n",
    "                            axis = 1)\n",
    "test_dek_na_x = test_imp_dek[test_imp_dek['Deck'].isna()].drop('Deck', axis = 1)\n",
    "test_dek_nna_x = test_imp_dek[~test_imp_dek['Deck'].isna()].drop('Deck', axis = 1)\n",
    "test_dek_nna_y = test_imp_dek[~test_imp_dek['Deck'].isna()]['Deck']\n",
    "test_dek_imp = KNeighborsClassifier(n_neighbors = 50)\n",
    "test_dek_imp.fit(np.array(test_dek_nna_x), np.array(test_dek_nna_y))\n",
    "test_dek_pred = test_dek_imp.predict(np.array(test_dek_na_x))\n",
    "df_test.loc[df_test['Deck'].isnull(), 'Deck'] = test_dek_pred'''"
   ]
  },
  {
   "cell_type": "code",
   "execution_count": 59,
   "metadata": {},
   "outputs": [
    {
     "data": {
      "text/plain": [
       "Index(['PassengerId', 'Pclass', 'Name', 'Age', 'SibSp', 'Parch', 'Ticket',\n",
       "       'Fare', 'Cabin', 'fam_size', 'Alone', 'Deck', 'Married_F', 'fam_Class',\n",
       "       'fare_perp', 'Embarked_C', 'Embarked_Q', 'Embarked_S', 'Sex_female',\n",
       "       'Sex_male', 'Title_Titled', 'Age_M', 'Age_F', 'M_Alone', 'F_Alone'],\n",
       "      dtype='object')"
      ]
     },
     "execution_count": 59,
     "metadata": {},
     "output_type": "execute_result"
    }
   ],
   "source": [
    "df_test.columns"
   ]
  },
  {
   "cell_type": "code",
   "execution_count": 62,
   "metadata": {},
   "outputs": [
    {
     "data": {
      "text/plain": [
       "Index(['Pclass', 'Age', 'SibSp', 'Parch', 'Fare', 'fam_size', 'Alone', 'Deck',\n",
       "       'Married_F', 'fam_Class', 'Embarked_C', 'Embarked_Q', 'Embarked_S',\n",
       "       'Sex_female', 'Sex_male', 'Title_Titled', 'Age_M', 'Age_F', 'M_Alone',\n",
       "       'F_Alone'],\n",
       "      dtype='object')"
      ]
     },
     "execution_count": 62,
     "metadata": {},
     "output_type": "execute_result"
    }
   ],
   "source": [
    "test_imp_fare.columns"
   ]
  },
  {
   "cell_type": "code",
   "execution_count": 64,
   "metadata": {
    "scrolled": true
   },
   "outputs": [
    {
     "ename": "ValueError",
     "evalue": "Unknown label type: 'continuous'",
     "output_type": "error",
     "traceback": [
      "\u001b[1;31m---------------------------------------------------------------------------\u001b[0m",
      "\u001b[1;31mValueError\u001b[0m                                Traceback (most recent call last)",
      "\u001b[1;32m<ipython-input-64-49c1c300ece1>\u001b[0m in \u001b[0;36m<module>\u001b[1;34m()\u001b[0m\n\u001b[0;32m      5\u001b[0m \u001b[0mtest_fare_nna_y\u001b[0m \u001b[1;33m=\u001b[0m \u001b[0mtest_imp_fare\u001b[0m\u001b[1;33m[\u001b[0m\u001b[1;33m~\u001b[0m\u001b[0mtest_imp_fare\u001b[0m\u001b[1;33m[\u001b[0m\u001b[1;34m'Fare'\u001b[0m\u001b[1;33m]\u001b[0m\u001b[1;33m.\u001b[0m\u001b[0misna\u001b[0m\u001b[1;33m(\u001b[0m\u001b[1;33m)\u001b[0m\u001b[1;33m]\u001b[0m\u001b[1;33m[\u001b[0m\u001b[1;34m'Fare'\u001b[0m\u001b[1;33m]\u001b[0m\u001b[1;33m\u001b[0m\u001b[0m\n\u001b[0;32m      6\u001b[0m \u001b[0mtest_fare_imp\u001b[0m \u001b[1;33m=\u001b[0m \u001b[0mKNeighborsClassifier\u001b[0m\u001b[1;33m(\u001b[0m\u001b[0mn_neighbors\u001b[0m \u001b[1;33m=\u001b[0m \u001b[1;36m50\u001b[0m\u001b[1;33m)\u001b[0m\u001b[1;33m\u001b[0m\u001b[0m\n\u001b[1;32m----> 7\u001b[1;33m \u001b[0mtest_fare_imp\u001b[0m\u001b[1;33m.\u001b[0m\u001b[0mfit\u001b[0m\u001b[1;33m(\u001b[0m\u001b[0mnp\u001b[0m\u001b[1;33m.\u001b[0m\u001b[0marray\u001b[0m\u001b[1;33m(\u001b[0m\u001b[0mtest_fare_nna_x\u001b[0m\u001b[1;33m)\u001b[0m\u001b[1;33m,\u001b[0m \u001b[0mnp\u001b[0m\u001b[1;33m.\u001b[0m\u001b[0marray\u001b[0m\u001b[1;33m(\u001b[0m\u001b[0mtest_fare_nna_y\u001b[0m\u001b[1;33m)\u001b[0m\u001b[1;33m)\u001b[0m\u001b[1;33m\u001b[0m\u001b[0m\n\u001b[0m\u001b[0;32m      8\u001b[0m \u001b[0mtest_fare_pred\u001b[0m \u001b[1;33m=\u001b[0m \u001b[0mtest_fare_imp\u001b[0m\u001b[1;33m.\u001b[0m\u001b[0mpredict\u001b[0m\u001b[1;33m(\u001b[0m\u001b[0mnp\u001b[0m\u001b[1;33m.\u001b[0m\u001b[0marray\u001b[0m\u001b[1;33m(\u001b[0m\u001b[0mtest_fare_na_x\u001b[0m\u001b[1;33m)\u001b[0m\u001b[1;33m)\u001b[0m\u001b[1;33m\u001b[0m\u001b[0m\n\u001b[0;32m      9\u001b[0m \u001b[0mdf_test\u001b[0m\u001b[1;33m.\u001b[0m\u001b[0mloc\u001b[0m\u001b[1;33m[\u001b[0m\u001b[0mdf_test\u001b[0m\u001b[1;33m[\u001b[0m\u001b[1;34m'Fare'\u001b[0m\u001b[1;33m]\u001b[0m\u001b[1;33m.\u001b[0m\u001b[0misnull\u001b[0m\u001b[1;33m(\u001b[0m\u001b[1;33m)\u001b[0m\u001b[1;33m,\u001b[0m \u001b[1;34m'Fare'\u001b[0m\u001b[1;33m]\u001b[0m \u001b[1;33m=\u001b[0m \u001b[0mtest_fare_pred\u001b[0m\u001b[1;33m\u001b[0m\u001b[0m\n",
      "\u001b[1;32m~\\Anaconda3\\lib\\site-packages\\sklearn\\neighbors\\base.py\u001b[0m in \u001b[0;36mfit\u001b[1;34m(self, X, y)\u001b[0m\n\u001b[0;32m    777\u001b[0m             \u001b[0mself\u001b[0m\u001b[1;33m.\u001b[0m\u001b[0moutputs_2d_\u001b[0m \u001b[1;33m=\u001b[0m \u001b[1;32mTrue\u001b[0m\u001b[1;33m\u001b[0m\u001b[0m\n\u001b[0;32m    778\u001b[0m \u001b[1;33m\u001b[0m\u001b[0m\n\u001b[1;32m--> 779\u001b[1;33m         \u001b[0mcheck_classification_targets\u001b[0m\u001b[1;33m(\u001b[0m\u001b[0my\u001b[0m\u001b[1;33m)\u001b[0m\u001b[1;33m\u001b[0m\u001b[0m\n\u001b[0m\u001b[0;32m    780\u001b[0m         \u001b[0mself\u001b[0m\u001b[1;33m.\u001b[0m\u001b[0mclasses_\u001b[0m \u001b[1;33m=\u001b[0m \u001b[1;33m[\u001b[0m\u001b[1;33m]\u001b[0m\u001b[1;33m\u001b[0m\u001b[0m\n\u001b[0;32m    781\u001b[0m         \u001b[0mself\u001b[0m\u001b[1;33m.\u001b[0m\u001b[0m_y\u001b[0m \u001b[1;33m=\u001b[0m \u001b[0mnp\u001b[0m\u001b[1;33m.\u001b[0m\u001b[0mempty\u001b[0m\u001b[1;33m(\u001b[0m\u001b[0my\u001b[0m\u001b[1;33m.\u001b[0m\u001b[0mshape\u001b[0m\u001b[1;33m,\u001b[0m \u001b[0mdtype\u001b[0m\u001b[1;33m=\u001b[0m\u001b[0mnp\u001b[0m\u001b[1;33m.\u001b[0m\u001b[0mint\u001b[0m\u001b[1;33m)\u001b[0m\u001b[1;33m\u001b[0m\u001b[0m\n",
      "\u001b[1;32m~\\Anaconda3\\lib\\site-packages\\sklearn\\utils\\multiclass.py\u001b[0m in \u001b[0;36mcheck_classification_targets\u001b[1;34m(y)\u001b[0m\n\u001b[0;32m    170\u001b[0m     if y_type not in ['binary', 'multiclass', 'multiclass-multioutput',\n\u001b[0;32m    171\u001b[0m                       'multilabel-indicator', 'multilabel-sequences']:\n\u001b[1;32m--> 172\u001b[1;33m         \u001b[1;32mraise\u001b[0m \u001b[0mValueError\u001b[0m\u001b[1;33m(\u001b[0m\u001b[1;34m\"Unknown label type: %r\"\u001b[0m \u001b[1;33m%\u001b[0m \u001b[0my_type\u001b[0m\u001b[1;33m)\u001b[0m\u001b[1;33m\u001b[0m\u001b[0m\n\u001b[0m\u001b[0;32m    173\u001b[0m \u001b[1;33m\u001b[0m\u001b[0m\n\u001b[0;32m    174\u001b[0m \u001b[1;33m\u001b[0m\u001b[0m\n",
      "\u001b[1;31mValueError\u001b[0m: Unknown label type: 'continuous'"
     ]
    }
   ],
   "source": [
    "test_imp_fare = df_test.drop(['PassengerId', 'Ticket', 'Name', 'fare_perp', 'Deck', 'Cabin'], \n",
    "                            axis = 1)\n",
    "test_fare_na_x = test_imp_fare[test_imp_fare['Fare'].isna()].drop('Fare', axis = 1)\n",
    "test_fare_nna_x = test_imp_fare[~test_imp_fare['Fare'].isna()].drop('Fare', axis = 1)\n",
    "test_fare_nna_y = test_imp_fare[~test_imp_fare['Fare'].isna()]['Fare']\n",
    "test_fare_imp = KNeighborsClassifier(n_neighbors = 50)\n",
    "test_fare_imp.fit(np.array(test_fare_nna_x), np.array(test_fare_nna_y))\n",
    "test_fare_pred = test_fare_imp.predict(np.array(test_fare_na_x))\n",
    "df_test.loc[df_test['Fare'].isnull(), 'Fare'] = test_fare_pred"
   ]
  },
  {
   "cell_type": "code",
   "execution_count": 72,
   "metadata": {},
   "outputs": [
    {
     "name": "stdout",
     "output_type": "stream",
     "text": [
      "must be str, not int\n"
     ]
    }
   ],
   "source": [
    "a = \"1\"\n",
    "b = 2\n",
    "try:\n",
    "    print(a + b)\n",
    "except Exception as e:\n",
    "    print(e)"
   ]
  }
 ],
 "metadata": {
  "kernelspec": {
   "display_name": "Python 3",
   "language": "python",
   "name": "python3"
  },
  "language_info": {
   "codemirror_mode": {
    "name": "ipython",
    "version": 3
   },
   "file_extension": ".py",
   "mimetype": "text/x-python",
   "name": "python",
   "nbconvert_exporter": "python",
   "pygments_lexer": "ipython3",
   "version": "3.6.5"
  }
 },
 "nbformat": 4,
 "nbformat_minor": 2
}
