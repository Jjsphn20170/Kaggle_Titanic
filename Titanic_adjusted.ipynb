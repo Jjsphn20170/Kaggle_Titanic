{
 "cells": [
  {
   "cell_type": "code",
   "execution_count": 55,
   "metadata": {},
   "outputs": [],
   "source": [
    "import pandas as pd\n",
    "import numpy as np\n",
    "from matplotlib import pyplot as plt\n",
    "import seaborn as sns\n",
    "\n",
    "import researchpy as rp\n",
    "import statsmodels.api as sm\n",
    "from statsmodels.formula.api import ols\n",
    "import scipy.stats as stats\n",
    "import statsmodels.stats.multicomp as mc\n",
    "import statsmodels.api as sa\n",
    "import statsmodels.formula.api as sfa\n",
    "import scikit_posthocs as sp\n",
    "\n",
    "from IPython.display import clear_output\n",
    "import statistics\n",
    "from sklearn.preprocessing import MinMaxScaler, StandardScaler\n",
    "from sklearn.model_selection import train_test_split\n",
    "from sklearn.linear_model import LogisticRegression\n",
    "from sklearn.svm import SVC\n",
    "from sklearn.metrics import accuracy_score, precision_score, confusion_matrix, classification_report\n",
    "from xgboost import XGBClassifier"
   ]
  },
  {
   "cell_type": "code",
   "execution_count": 2,
   "metadata": {},
   "outputs": [],
   "source": [
    "train = pd.read_csv('train.csv')\n",
    "test = pd.read_csv('test.csv')"
   ]
  },
  {
   "cell_type": "code",
   "execution_count": 3,
   "metadata": {},
   "outputs": [
    {
     "name": "stdout",
     "output_type": "stream",
     "text": [
      "(891, 12)\n",
      "Index(['PassengerId', 'Survived', 'Pclass', 'Name', 'Sex', 'Age', 'SibSp',\n",
      "       'Parch', 'Ticket', 'Fare', 'Cabin', 'Embarked'],\n",
      "      dtype='object')\n",
      "(418, 11)\n",
      "Index(['PassengerId', 'Pclass', 'Name', 'Sex', 'Age', 'SibSp', 'Parch',\n",
      "       'Ticket', 'Fare', 'Cabin', 'Embarked'],\n",
      "      dtype='object')\n"
     ]
    }
   ],
   "source": [
    "print(train.shape)\n",
    "print(train.columns)\n",
    "print(test.shape)\n",
    "print(test.columns)"
   ]
  },
  {
   "cell_type": "markdown",
   "metadata": {},
   "source": [
    "### Adding features"
   ]
  },
  {
   "cell_type": "code",
   "execution_count": 4,
   "metadata": {},
   "outputs": [],
   "source": [
    "'''人名/稱謂''' # ['Title_Capt', 'Title_Lady', 'Title_Major', 'Title_Sir', 'Title_the Countess']\n",
    "train['Title'] = train.Name.str.split(', ').str[1].str.split('.').str[0].str.strip()\n",
    "train['Title'] = train['Title'].replace({'Ms':'Miss', 'Mlle':'Miss', 'Mme':'Mrs', \n",
    "                                         'Rev':'Titled', 'Don':'Titled', 'Jonkheer':'Titled', \n",
    "                                         'Capt':'Titled', 'Lady':'Titled', 'Major':'Titled', \n",
    "                                         'Sir':'Titled', 'the Countess':'Titled'})\n",
    "'''個人&家庭狀況'''\n",
    "train['fam_size'] = train['SibSp'] + train['Parch'] + 1\n",
    "train['Alone'] = (train['fam_size']==1)\n",
    "train['Alone'] = train['Alone'].astype(int)\n",
    "train['Married_F'] = (train['Title'] != 'Miss') & (train['Sex'] == 'female')\n",
    "#df_train['Married_F'] = df_train['Married_F'].astype(int)\n",
    "#df_train['fam_Class'] = df_train['fam_size'] * df_train['Pclass']\n",
    "\n",
    "'''住宿'''\n",
    "train['Deck'] = train['Cabin'].str.slice(0, 1)\n",
    "train['Deck'] = pd.Categorical(train['Deck'], categories = ['A', 'B', 'C', 'D', 'E', 'F', 'G', 'T', 'Z'])\n",
    "\n",
    "'''經濟狀況'''\n",
    "train['fare_perp'] = train['Fare']/train['fam_size']"
   ]
  },
  {
   "cell_type": "markdown",
   "metadata": {},
   "source": [
    "One-way ANOVA preassumptions：\n",
    "* Normality --> stats.shapiro\n",
    "* Homoskedasticity --> stats.levene\n",
    "* Independence --> depends on sampling method\n",
    "*    reference：https://www.pythonfordatascience.org/anova-python/#anova_scipy_stats"
   ]
  },
  {
   "cell_type": "code",
   "execution_count": 64,
   "metadata": {},
   "outputs": [
    {
     "name": "stdout",
     "output_type": "stream",
     "text": [
      "\n",
      "\n",
      "            N     Mean       SD      SE  95% Conf.  Interval\n",
      "Survived                                                    \n",
      "0         424  30.6262  14.1721  0.6883    29.2733   31.9790\n",
      "1         290  28.3437  14.9510  0.8780    26.6157   30.0717\n",
      "                    sum_sq     df         F    PR(>F)\n",
      "C(Survived)     897.187582    1.0  4.271195  0.039125\n",
      "Residual     149559.448362  712.0       NaN       NaN\n",
      "(0.9824720025062561, 1.533871625269967e-07)\n"
     ]
    },
    {
     "data": {
      "text/plain": [
       "LeveneResult(statistic=1.1953828843934424, pvalue=0.27461621560000243)"
      ]
     },
     "execution_count": 64,
     "metadata": {},
     "output_type": "execute_result"
    },
    {
     "data": {
      "image/png": "[encoded data removed]",
      "text/plain": [
       "<Figure size 432x288 with 1 Axes>"
      ]
     },
     "metadata": {
      "needs_background": "light"
     },
     "output_type": "display_data"
    }
   ],
   "source": [
    "#stats.f_oneway(train[train['Survived'] == 1]['Age'], train[train['Survived'] == 0]['Age'])\n",
    "print(rp.summary_cont(train['Age'].groupby(train['Survived'])))\n",
    "model = ols('Age ~ C(Survived)', data=train).fit()\n",
    "aov_table = sm.stats.anova_lm(model, typ=2)\n",
    "print(aov_table)\n",
    "print(stats.shapiro(model.resid)) # Did not pass normality test\n",
    "normality_plot, stat = stats.probplot(model.resid, plot= plt, rvalue= True)\n",
    "stats.levene(train['Age'][train['Survived'] == 1].dropna(),\n",
    "             train['Age'][train['Survived'] == 0].dropna()) # have non-statistically significant varability"
   ]
  },
  {
   "cell_type": "code",
   "execution_count": 32,
   "metadata": {},
   "outputs": [
    {
     "name": "stdout",
     "output_type": "stream",
     "text": [
      "\n",
      "\n",
      "            N     Mean       SD      SE  95% Conf.  Interval\n",
      "Survived                                                    \n",
      "0         549  22.1179  31.3882  1.3396    19.4865   24.7493\n",
      "1         342  48.3954  66.5970  3.6012    41.3121   55.4787\n",
      "                   sum_sq     df          F        PR(>F)\n",
      "C(Survived)  1.455089e+05    1.0  63.030764  6.120189e-15\n",
      "Residual     2.052290e+06  889.0        NaN           NaN\n",
      "(0.5871959924697876, 1.5461927255360032e-41)\n"
     ]
    },
    {
     "data": {
      "text/plain": [
       "LeveneResult(statistic=45.09964096576531, pvalue=3.337352710626e-11)"
      ]
     },
     "execution_count": 32,
     "metadata": {},
     "output_type": "execute_result"
    },
    {
     "data": {
      "image/png": "[encoded data removed]",
      "text/plain": [
       "<Figure size 432x288 with 1 Axes>"
      ]
     },
     "metadata": {
      "needs_background": "light"
     },
     "output_type": "display_data"
    }
   ],
   "source": [
    "print(rp.summary_cont(train['Fare'].groupby(train['Survived'])))\n",
    "model = ols('Fare ~ C(Survived)', data=train).fit()\n",
    "aov_table = sm.stats.anova_lm(model, typ=2)\n",
    "print(aov_table)\n",
    "print(stats.shapiro(model.resid)) # Did not pass normality test (p-value significant)\n",
    "normality_plot, stat = stats.probplot(model.resid, plot= plt, rvalue= True)\n",
    "stats.levene(train['Fare'][train['Survived'] == 1].dropna(),\n",
    "             train['Fare'][train['Survived'] == 0].dropna()) # heteroskedasticity"
   ]
  },
  {
   "cell_type": "code",
   "execution_count": 63,
   "metadata": {},
   "outputs": [
    {
     "name": "stdout",
     "output_type": "stream",
     "text": [
      "\n",
      "\n",
      "            N    Mean      SD      SE  95% Conf.  Interval\n",
      "Survived                                                  \n",
      "0         549  1.8834  1.8307  0.0781     1.7300    2.0369\n",
      "1         342  1.9386  1.1861  0.0641     1.8124    2.0647\n",
      "                  sum_sq     df         F    PR(>F)\n",
      "C(Survived)     0.641445    1.0  0.246193  0.619891\n",
      "Residual     2316.249688  889.0       NaN       NaN\n",
      "(0.6214359998703003, 2.708906113324877e-40)\n"
     ]
    },
    {
     "data": {
      "text/plain": [
       "LeveneResult(statistic=0.006444356314184613, pvalue=0.9360352181633312)"
      ]
     },
     "execution_count": 63,
     "metadata": {},
     "output_type": "execute_result"
    },
    {
     "data": {
      "image/png": "[encoded data removed]",
      "text/plain": [
       "<Figure size 432x288 with 1 Axes>"
      ]
     },
     "metadata": {
      "needs_background": "light"
     },
     "output_type": "display_data"
    }
   ],
   "source": [
    "print(rp.summary_cont(train['fam_size'].groupby(train['Survived'])))\n",
    "model = ols('fam_size ~ C(Survived)', data=train).fit()\n",
    "aov_table = sm.stats.anova_lm(model, typ=2)\n",
    "print(aov_table) # insignificant\n",
    "print(stats.shapiro(model.resid)) # Did not pass normality test (p-value significant)\n",
    "normality_plot, stat = stats.probplot(model.resid, plot= plt, rvalue= True)\n",
    "stats.levene(train['fam_size'][train['Survived'] == 1].dropna(),\n",
    "             train['fam_size'][train['Survived'] == 0].dropna()) # homoskedasticity"
   ]
  },
  {
   "cell_type": "markdown",
   "metadata": {},
   "source": [
    "### Chi-Square Test of Independence\n",
    "* reference：https://predictivehacks.com/how-to-run-chi-square-test-in-python/"
   ]
  },
  {
   "cell_type": "code",
   "execution_count": 44,
   "metadata": {},
   "outputs": [
    {
     "name": "stdout",
     "output_type": "stream",
     "text": [
      "Chi-Square： 263.05057407065567 Degree of Freedom： 1 p-value： 3.711747770113424e-59\n",
      "Reject Null Hypothesis --> Variables are dependent.\n",
      "Chi-Square： 102.88898875696056 Degree of Freedom： 2 p-value： 4.549251711298793e-23\n",
      "Reject Null Hypothesis --> Variables are dependent.\n",
      "Chi-Square： 36.85013084754587 Degree of Freedom： 1 p-value： 1.2756752813177417e-09\n",
      "Reject Null Hypothesis --> Variables are dependent.\n"
     ]
    },
    {
     "data": {
      "text/plain": [
       "<matplotlib.axes._subplots.AxesSubplot at 0x13d8bced2e8>"
      ]
     },
     "execution_count": 44,
     "metadata": {},
     "output_type": "execute_result"
    },
    {
     "data": {
      "image/png": "[encoded data removed]",
      "text/plain": [
       "<Figure size 1152x216 with 6 Axes>"
      ]
     },
     "metadata": {
      "needs_background": "light"
     },
     "output_type": "display_data"
    }
   ],
   "source": [
    "# Construct crosstable # , normalize='index' or 'column' or 'all'--> 百分比\n",
    "# Null Hypothesis： Variables are independent`\n",
    "def chi_test(y = train.Survived, x = train.Sex, mar=False):\n",
    "    y_x = pd.crosstab(y, x, margins=mar)\n",
    "    chi2, p, dof, ex = stats.chi2_contingency(y_x, correction=False)\n",
    "    print(\"Chi-Square：\",chi2, \"Degree of Freedom：\",dof, \"p-value：\", p)\n",
    "    if p <= 0.05:\n",
    "        print(\"Reject Null Hypothesis --> Variables are dependent.\")\n",
    "    else:\n",
    "        print(\"Fail to reject --> Variables may be independent.\")\n",
    "    return y_x\n",
    "\n",
    "y_sex = chi_test() # Sex & Survived are dependent\n",
    "y_pclass = chi_test(x=train.Pclass) # Pclass & Survived are dependent\n",
    "y_alone = chi_test(x=train.Alone) # Alone & Survived are dependent\n",
    "fig, axs = plt.subplots(1, 3, figsize = (16, 3))\n",
    "\n",
    "sns.heatmap(y_sex, annot=True, cmap=\"YlGnBu\", ax = axs[0])\n",
    "sns.heatmap(y_pclass, annot=True, cmap=\"YlGnBu\", ax = axs[1])\n",
    "sns.heatmap(y_alone, annot=True, cmap=\"YlGnBu\", ax = axs[2])"
   ]
  },
  {
   "cell_type": "code",
   "execution_count": 61,
   "metadata": {},
   "outputs": [
    {
     "name": "stdout",
     "output_type": "stream",
     "text": [
      "Chi-Square： 10.300556313502582 Degree of Freedom： 7 p-value： 0.1721713412821439\n",
      "Fail to reject --> Variables may be independent.\n"
     ]
    },
    {
     "data": {
      "text/plain": [
       "<matplotlib.axes._subplots.AxesSubplot at 0x13d8bee7400>"
      ]
     },
     "execution_count": 61,
     "metadata": {},
     "output_type": "execute_result"
    },
    {
     "data": {
      "image/png": "[encoded data removed]",
      "text/plain": [
       "<Figure size 432x288 with 2 Axes>"
      ]
     },
     "metadata": {
      "needs_background": "light"
     },
     "output_type": "display_data"
    }
   ],
   "source": [
    "y_deck = chi_test(x=train.Deck) \n",
    "sns.heatmap(y_deck, annot=True, cmap=\"YlGnBu\")"
   ]
  },
  {
   "cell_type": "code",
   "execution_count": 59,
   "metadata": {},
   "outputs": [
    {
     "data": {
      "text/html": [
       "<div>\n",
       "<style scoped>\n",
       "    .dataframe tbody tr th:only-of-type {\n",
       "        vertical-align: middle;\n",
       "    }\n",
       "\n",
       "    .dataframe tbody tr th {\n",
       "        vertical-align: top;\n",
       "    }\n",
       "\n",
       "    .dataframe thead th {\n",
       "        text-align: right;\n",
       "    }\n",
       "</style>\n",
       "<table border=\"1\" class=\"dataframe\">\n",
       "  <thead>\n",
       "    <tr style=\"text-align: right;\">\n",
       "      <th></th>\n",
       "      <th>0</th>\n",
       "      <th>1</th>\n",
       "    </tr>\n",
       "  </thead>\n",
       "  <tbody>\n",
       "    <tr>\n",
       "      <th>0</th>\n",
       "      <td>1.000000e+00</td>\n",
       "      <td>9.009490e-10</td>\n",
       "    </tr>\n",
       "    <tr>\n",
       "      <th>1</th>\n",
       "      <td>9.009490e-10</td>\n",
       "      <td>1.000000e+00</td>\n",
       "    </tr>\n",
       "  </tbody>\n",
       "</table>\n",
       "</div>"
      ],
      "text/plain": [
       "              0             1\n",
       "0  1.000000e+00  9.009490e-10\n",
       "1  9.009490e-10  1.000000e+00"
      ]
     },
     "execution_count": 59,
     "metadata": {},
     "output_type": "execute_result"
    }
   ],
   "source": [
    "# If chi-square test is significant, we then use POST-HOC test to varify group difference\n",
    "# FWER is the probability of making Type-I error --> use procecure to control FWER\n",
    "# Bonferroni procedure, Šidák procedure, Tukey's procedure, Holm's step-down procedure, ...\n",
    "# https://en.wikipedia.org/wiki/Family-wise_error_rate#Controlling_procedures\n",
    "sp.posthoc_ttest(train, val_col='Survived', group_col='Alone', p_adjust='bonf')\n",
    "# All three variables are proved to have statistically different groups"
   ]
  },
  {
   "cell_type": "code",
   "execution_count": 13,
   "metadata": {},
   "outputs": [
    {
     "data": {
      "text/plain": [
       "<seaborn.axisgrid.FacetGrid at 0x1a11e730f98>"
      ]
     },
     "execution_count": 13,
     "metadata": {},
     "output_type": "execute_result"
    },
    {
     "data": {
      "image/png": "[encoded data removed]",
      "text/plain": [
       "<Figure size 402.375x360 with 1 Axes>"
      ]
     },
     "metadata": {
      "needs_background": "light"
     },
     "output_type": "display_data"
    }
   ],
   "source": [
    "sns.catplot(data = train, x = 'Deck', y = 'Survived', hue = 'Pclass', kind = 'bar')"
   ]
  },
  {
   "cell_type": "markdown",
   "metadata": {},
   "source": [
    "### Missing Data"
   ]
  },
  {
   "cell_type": "code",
   "execution_count": 48,
   "metadata": {},
   "outputs": [
    {
     "name": "stdout",
     "output_type": "stream",
     "text": [
      "687\n",
      "177\n",
      "2\n"
     ]
    }
   ],
   "source": [
    "#print(train.isnull().sum()) \n",
    "# Age、Cabin、Embarked needs Imputation\n",
    "print(train['Cabin'].isnull().sum())\n",
    "# --> change Cabin to Deck (categorical)\n",
    "print(train['Age'].isnull().sum())\n",
    "# --> fill by 'famsize' mean\n",
    "print(train['Embarked'].isnull().sum())\n",
    "# --> fill by mode"
   ]
  },
  {
   "cell_type": "markdown",
   "metadata": {},
   "source": [
    "##### Embarked"
   ]
  },
  {
   "cell_type": "code",
   "execution_count": 49,
   "metadata": {},
   "outputs": [],
   "source": [
    "train['Embarked'] = train['Embarked'].fillna(statistics.mode(train['Embarked'].dropna()))"
   ]
  },
  {
   "cell_type": "markdown",
   "metadata": {},
   "source": [
    "##### Cabin --> Deck"
   ]
  },
  {
   "cell_type": "code",
   "execution_count": 50,
   "metadata": {},
   "outputs": [
    {
     "data": {
      "text/plain": [
       "<matplotlib.axes._subplots.AxesSubplot at 0x2171903a358>"
      ]
     },
     "execution_count": 50,
     "metadata": {},
     "output_type": "execute_result"
    },
    {
     "data": {
      "image/png": "[encoded data removed]",
      "text/plain": [
       "<Figure size 720x360 with 2 Axes>"
      ]
     },
     "metadata": {
      "needs_background": "light"
     },
     "output_type": "display_data"
    }
   ],
   "source": [
    "fig, axs = plt.subplots(1, 2, figsize = (10, 5), sharey = True)\n",
    "sns.boxplot(train['Deck'], train['Fare'], ax = axs[0])\n",
    "sns.boxplot(train['Pclass'], train['Fare'], ax = axs[1])\n",
    "# No obvious correlation between 'Deck' and 'Pclass'\n",
    "#sns.catplot(data = train, kind = \"bar\", x = \"Deck\", y = \"Fare\", \n",
    " #           hue=\"Pclass\", ci=\"sd\", palette=\"dark\", alpha=.6)"
   ]
  },
  {
   "cell_type": "code",
   "execution_count": 51,
   "metadata": {},
   "outputs": [
    {
     "data": {
      "text/plain": [
       "0"
      ]
     },
     "execution_count": 51,
     "metadata": {},
     "output_type": "execute_result"
    }
   ],
   "source": [
    "train['Deck'] = train['Deck'].fillna(statistics.mode(train['Deck'].dropna()))\n",
    "train['Deck'].isnull().sum()"
   ]
  },
  {
   "cell_type": "markdown",
   "metadata": {},
   "source": [
    "##### Age"
   ]
  },
  {
   "cell_type": "code",
   "execution_count": 10,
   "metadata": {},
   "outputs": [
    {
     "data": {
      "text/plain": [
       "<matplotlib.axes._subplots.AxesSubplot at 0x21718700e48>"
      ]
     },
     "execution_count": 10,
     "metadata": {},
     "output_type": "execute_result"
    },
    {
     "data": {
      "image/png": "[encoded data removed]",
      "text/plain": [
       "<Figure size 720x432 with 4 Axes>"
      ]
     },
     "metadata": {
      "needs_background": "light"
     },
     "output_type": "display_data"
    }
   ],
   "source": [
    "#sns.boxplot(train['Sex'], train['Age']) # similar mean\n",
    "fig, axs = plt.subplots(2, 2, figsize = (10, 6), sharey = True)\n",
    "male = train[train['Sex'] == 'male']\n",
    "female = train[train['Sex'] == 'female']\n",
    "sns.boxplot(male['SibSp'], male['Age'], ax = axs[1][0])\n",
    "sns.boxplot(male['fam_size'], male['Age'], ax = axs[0][0])\n",
    "sns.boxplot(female['SibSp'], female['Age'], ax = axs[1][1])\n",
    "sns.boxplot(female['fam_size'], female['Age'], ax = axs[0][1])"
   ]
  },
  {
   "cell_type": "code",
   "execution_count": 52,
   "metadata": {},
   "outputs": [
    {
     "name": "stdout",
     "output_type": "stream",
     "text": [
      "Empty DataFrame\n",
      "Columns: [PassengerId, Survived, Pclass, Name, Sex, Age, SibSp, Parch, Ticket, Fare, Cabin, Embarked, Title, fam_size, Alone, Married_F, Deck, fare_perp]\n",
      "Index: []\n"
     ]
    }
   ],
   "source": [
    "# fill age.na by fam_size age\n",
    "for ind, row in train.iterrows():\n",
    "    if ind % 100 == 0:\n",
    "        clear_output(True)\n",
    "    if pd.isna(train.loc[ind, 'Age']):\n",
    "        if train.loc[ind, 'fam_size'] <= 8:\n",
    "            #print(ind)\n",
    "            famsize = train.loc[ind, 'fam_size']\n",
    "            same_group = train[train['fam_size'] == famsize]\n",
    "            age_mean = np.mean(same_group['Age'])\n",
    "            train.loc[ind, 'Age'] = age_mean\n",
    "        else:\n",
    "            same_group = train[train['fam_size'] == 8]\n",
    "            age_mean = np.mean(same_group['Age'])\n",
    "            train.loc[ind, 'Age'] = age_mean\n",
    "\n",
    "print(train[train['Age'].isnull()])"
   ]
  },
  {
   "cell_type": "markdown",
   "metadata": {},
   "source": [
    "### Encoding & Scaling"
   ]
  },
  {
   "cell_type": "code",
   "execution_count": 54,
   "metadata": {},
   "outputs": [
    {
     "name": "stdout",
     "output_type": "stream",
     "text": [
      "(891, 14)\n",
      "Index(['Sex', 'Embarked', 'Title', 'Deck'], dtype='object')\n",
      "(891, 31)\n",
      "['Title_Col', 'Title_Dr', 'Title_Master', 'Title_Miss', 'Title_Mr', 'Title_Mrs', 'Title_Titled']\n"
     ]
    },
    {
     "data": {
      "text/html": [
       "<div>\n",
       "<style scoped>\n",
       "    .dataframe tbody tr th:only-of-type {\n",
       "        vertical-align: middle;\n",
       "    }\n",
       "\n",
       "    .dataframe tbody tr th {\n",
       "        vertical-align: top;\n",
       "    }\n",
       "\n",
       "    .dataframe thead th {\n",
       "        text-align: right;\n",
       "    }\n",
       "</style>\n",
       "<table border=\"1\" class=\"dataframe\">\n",
       "  <thead>\n",
       "    <tr style=\"text-align: right;\">\n",
       "      <th></th>\n",
       "      <th>Survived</th>\n",
       "      <th>Pclass</th>\n",
       "      <th>Age</th>\n",
       "      <th>SibSp</th>\n",
       "      <th>Parch</th>\n",
       "      <th>Fare</th>\n",
       "      <th>fam_size</th>\n",
       "      <th>Alone</th>\n",
       "      <th>Married_F</th>\n",
       "      <th>fare_perp</th>\n",
       "      <th>...</th>\n",
       "      <th>Title_Titled</th>\n",
       "      <th>Deck_A</th>\n",
       "      <th>Deck_B</th>\n",
       "      <th>Deck_C</th>\n",
       "      <th>Deck_D</th>\n",
       "      <th>Deck_E</th>\n",
       "      <th>Deck_F</th>\n",
       "      <th>Deck_G</th>\n",
       "      <th>Deck_T</th>\n",
       "      <th>Deck_Z</th>\n",
       "    </tr>\n",
       "  </thead>\n",
       "  <tbody>\n",
       "    <tr>\n",
       "      <th>0</th>\n",
       "      <td>0</td>\n",
       "      <td>3</td>\n",
       "      <td>22.0</td>\n",
       "      <td>1</td>\n",
       "      <td>0</td>\n",
       "      <td>7.2500</td>\n",
       "      <td>2</td>\n",
       "      <td>0</td>\n",
       "      <td>False</td>\n",
       "      <td>3.62500</td>\n",
       "      <td>...</td>\n",
       "      <td>0</td>\n",
       "      <td>0</td>\n",
       "      <td>0</td>\n",
       "      <td>1</td>\n",
       "      <td>0</td>\n",
       "      <td>0</td>\n",
       "      <td>0</td>\n",
       "      <td>0</td>\n",
       "      <td>0</td>\n",
       "      <td>0</td>\n",
       "    </tr>\n",
       "    <tr>\n",
       "      <th>1</th>\n",
       "      <td>1</td>\n",
       "      <td>1</td>\n",
       "      <td>38.0</td>\n",
       "      <td>1</td>\n",
       "      <td>0</td>\n",
       "      <td>71.2833</td>\n",
       "      <td>2</td>\n",
       "      <td>0</td>\n",
       "      <td>True</td>\n",
       "      <td>35.64165</td>\n",
       "      <td>...</td>\n",
       "      <td>0</td>\n",
       "      <td>0</td>\n",
       "      <td>0</td>\n",
       "      <td>1</td>\n",
       "      <td>0</td>\n",
       "      <td>0</td>\n",
       "      <td>0</td>\n",
       "      <td>0</td>\n",
       "      <td>0</td>\n",
       "      <td>0</td>\n",
       "    </tr>\n",
       "    <tr>\n",
       "      <th>2</th>\n",
       "      <td>1</td>\n",
       "      <td>3</td>\n",
       "      <td>26.0</td>\n",
       "      <td>0</td>\n",
       "      <td>0</td>\n",
       "      <td>7.9250</td>\n",
       "      <td>1</td>\n",
       "      <td>1</td>\n",
       "      <td>False</td>\n",
       "      <td>7.92500</td>\n",
       "      <td>...</td>\n",
       "      <td>0</td>\n",
       "      <td>0</td>\n",
       "      <td>0</td>\n",
       "      <td>1</td>\n",
       "      <td>0</td>\n",
       "      <td>0</td>\n",
       "      <td>0</td>\n",
       "      <td>0</td>\n",
       "      <td>0</td>\n",
       "      <td>0</td>\n",
       "    </tr>\n",
       "  </tbody>\n",
       "</table>\n",
       "<p>3 rows × 30 columns</p>\n",
       "</div>"
      ],
      "text/plain": [
       "   Survived  Pclass   Age  SibSp  Parch     Fare  fam_size  Alone  Married_F  \\\n",
       "0         0       3  22.0      1      0   7.2500         2      0      False   \n",
       "1         1       1  38.0      1      0  71.2833         2      0       True   \n",
       "2         1       3  26.0      0      0   7.9250         1      1      False   \n",
       "\n",
       "   fare_perp  ...  Title_Titled  Deck_A  Deck_B  Deck_C  Deck_D  Deck_E  \\\n",
       "0    3.62500  ...             0       0       0       1       0       0   \n",
       "1   35.64165  ...             0       0       0       1       0       0   \n",
       "2    7.92500  ...             0       0       0       1       0       0   \n",
       "\n",
       "   Deck_F  Deck_G  Deck_T  Deck_Z  \n",
       "0       0       0       0       0  \n",
       "1       0       0       0       0  \n",
       "2       0       0       0       0  \n",
       "\n",
       "[3 rows x 30 columns]"
      ]
     },
     "execution_count": 54,
     "metadata": {},
     "output_type": "execute_result"
    }
   ],
   "source": [
    "new_train = train.drop(['Ticket', 'Cabin', 'Name', 'PassengerId'], axis = 1)\n",
    "print(new_train.shape)\n",
    "numeric = new_train.select_dtypes(include=np.number).columns\n",
    "category = new_train.select_dtypes(include=['object', 'category']).columns\n",
    "print(category)\n",
    "new_train = pd.get_dummies(new_train, columns = list(category), dummy_na = False, drop_first = False)\n",
    "print(new_train.shape)\n",
    "print([x for x in new_train.columns if x.startswith(\"Title\")])\n",
    "new_train = new_train.drop(['Sex_male'], axis = 1)\n",
    "new_train = new_train.rename(columns = {'Sex_female':'Sex'})\n",
    "new_train.head(3)"
   ]
  },
  {
   "cell_type": "code",
   "execution_count": 13,
   "metadata": {},
   "outputs": [
    {
     "data": {
      "text/plain": [
       "(array([537., 161., 102.,  29.,  15.,  22.,  12.,   6.,   0.,   7.]),\n",
       " array([ 1.,  2.,  3.,  4.,  5.,  6.,  7.,  8.,  9., 10., 11.]),\n",
       " <a list of 10 Patch objects>)"
      ]
     },
     "execution_count": 13,
     "metadata": {},
     "output_type": "execute_result"
    },
    {
     "data": {
      "image/png": "[encoded data removed]",
      "text/plain": [
       "<Figure size 2160x432 with 5 Axes>"
      ]
     },
     "metadata": {
      "needs_background": "light"
     },
     "output_type": "display_data"
    }
   ],
   "source": [
    "# Looking at (numeric)feature distributions --> 多為偏態\n",
    "fig, axs = plt.subplots(1, 5, figsize = (30, 6), gridspec_kw = {'wspace':0.1}, sharey = True)\n",
    "axs[0].hist(train['Age'])\n",
    "axs[1].hist(train['Fare'])\n",
    "axs[2].hist(train['SibSp'])\n",
    "axs[3].hist(train['Parch'])\n",
    "axs[4].hist(train['fam_size'])"
   ]
  },
  {
   "cell_type": "code",
   "execution_count": 55,
   "metadata": {},
   "outputs": [
    {
     "name": "stdout",
     "output_type": "stream",
     "text": [
      "(891, 30)\n"
     ]
    },
    {
     "data": {
      "text/html": [
       "<div>\n",
       "<style scoped>\n",
       "    .dataframe tbody tr th:only-of-type {\n",
       "        vertical-align: middle;\n",
       "    }\n",
       "\n",
       "    .dataframe tbody tr th {\n",
       "        vertical-align: top;\n",
       "    }\n",
       "\n",
       "    .dataframe thead th {\n",
       "        text-align: right;\n",
       "    }\n",
       "</style>\n",
       "<table border=\"1\" class=\"dataframe\">\n",
       "  <thead>\n",
       "    <tr style=\"text-align: right;\">\n",
       "      <th></th>\n",
       "      <th>Survived</th>\n",
       "      <th>Pclass</th>\n",
       "      <th>Age</th>\n",
       "      <th>SibSp</th>\n",
       "      <th>Parch</th>\n",
       "      <th>Fare</th>\n",
       "      <th>fam_size</th>\n",
       "      <th>Alone</th>\n",
       "      <th>Married_F</th>\n",
       "      <th>fare_perp</th>\n",
       "      <th>...</th>\n",
       "      <th>Title_Titled</th>\n",
       "      <th>Deck_A</th>\n",
       "      <th>Deck_B</th>\n",
       "      <th>Deck_C</th>\n",
       "      <th>Deck_D</th>\n",
       "      <th>Deck_E</th>\n",
       "      <th>Deck_F</th>\n",
       "      <th>Deck_G</th>\n",
       "      <th>Deck_T</th>\n",
       "      <th>Deck_Z</th>\n",
       "    </tr>\n",
       "  </thead>\n",
       "  <tbody>\n",
       "    <tr>\n",
       "      <th>0</th>\n",
       "      <td>0</td>\n",
       "      <td>0.827377</td>\n",
       "      <td>-0.602414</td>\n",
       "      <td>0.432793</td>\n",
       "      <td>-0.473674</td>\n",
       "      <td>-0.502445</td>\n",
       "      <td>0.059160</td>\n",
       "      <td>-1.231645</td>\n",
       "      <td>-0.411450</td>\n",
       "      <td>-0.454798</td>\n",
       "      <td>...</td>\n",
       "      <td>-0.126347</td>\n",
       "      <td>-0.130856</td>\n",
       "      <td>-0.235981</td>\n",
       "      <td>0.440874</td>\n",
       "      <td>-0.196116</td>\n",
       "      <td>-0.193009</td>\n",
       "      <td>-0.121681</td>\n",
       "      <td>-0.067153</td>\n",
       "      <td>-0.03352</td>\n",
       "      <td>0.0</td>\n",
       "    </tr>\n",
       "    <tr>\n",
       "      <th>1</th>\n",
       "      <td>1</td>\n",
       "      <td>-1.566107</td>\n",
       "      <td>0.616973</td>\n",
       "      <td>0.432793</td>\n",
       "      <td>-0.473674</td>\n",
       "      <td>0.786845</td>\n",
       "      <td>0.059160</td>\n",
       "      <td>-1.231645</td>\n",
       "      <td>2.430427</td>\n",
       "      <td>0.438994</td>\n",
       "      <td>...</td>\n",
       "      <td>-0.126347</td>\n",
       "      <td>-0.130856</td>\n",
       "      <td>-0.235981</td>\n",
       "      <td>0.440874</td>\n",
       "      <td>-0.196116</td>\n",
       "      <td>-0.193009</td>\n",
       "      <td>-0.121681</td>\n",
       "      <td>-0.067153</td>\n",
       "      <td>-0.03352</td>\n",
       "      <td>0.0</td>\n",
       "    </tr>\n",
       "    <tr>\n",
       "      <th>2</th>\n",
       "      <td>1</td>\n",
       "      <td>0.827377</td>\n",
       "      <td>-0.297567</td>\n",
       "      <td>-0.474545</td>\n",
       "      <td>-0.473674</td>\n",
       "      <td>-0.488854</td>\n",
       "      <td>-0.560975</td>\n",
       "      <td>0.811922</td>\n",
       "      <td>-0.411450</td>\n",
       "      <td>-0.334757</td>\n",
       "      <td>...</td>\n",
       "      <td>-0.126347</td>\n",
       "      <td>-0.130856</td>\n",
       "      <td>-0.235981</td>\n",
       "      <td>0.440874</td>\n",
       "      <td>-0.196116</td>\n",
       "      <td>-0.193009</td>\n",
       "      <td>-0.121681</td>\n",
       "      <td>-0.067153</td>\n",
       "      <td>-0.03352</td>\n",
       "      <td>0.0</td>\n",
       "    </tr>\n",
       "  </tbody>\n",
       "</table>\n",
       "<p>3 rows × 30 columns</p>\n",
       "</div>"
      ],
      "text/plain": [
       "   Survived    Pclass       Age     SibSp     Parch      Fare  fam_size  \\\n",
       "0         0  0.827377 -0.602414  0.432793 -0.473674 -0.502445  0.059160   \n",
       "1         1 -1.566107  0.616973  0.432793 -0.473674  0.786845  0.059160   \n",
       "2         1  0.827377 -0.297567 -0.474545 -0.473674 -0.488854 -0.560975   \n",
       "\n",
       "      Alone  Married_F  fare_perp  ...  Title_Titled    Deck_A    Deck_B  \\\n",
       "0 -1.231645  -0.411450  -0.454798  ...     -0.126347 -0.130856 -0.235981   \n",
       "1 -1.231645   2.430427   0.438994  ...     -0.126347 -0.130856 -0.235981   \n",
       "2  0.811922  -0.411450  -0.334757  ...     -0.126347 -0.130856 -0.235981   \n",
       "\n",
       "     Deck_C    Deck_D    Deck_E    Deck_F    Deck_G   Deck_T  Deck_Z  \n",
       "0  0.440874 -0.196116 -0.193009 -0.121681 -0.067153 -0.03352     0.0  \n",
       "1  0.440874 -0.196116 -0.193009 -0.121681 -0.067153 -0.03352     0.0  \n",
       "2  0.440874 -0.196116 -0.193009 -0.121681 -0.067153 -0.03352     0.0  \n",
       "\n",
       "[3 rows x 30 columns]"
      ]
     },
     "execution_count": 55,
     "metadata": {},
     "output_type": "execute_result"
    }
   ],
   "source": [
    "# Use Standardized Scaling\n",
    "stand_scaler = StandardScaler()\n",
    "new_train_sd = stand_scaler.fit_transform(new_train)\n",
    "new_train_sd = pd.DataFrame(new_train_sd, columns = new_train.columns)\n",
    "print(new_train_sd.shape)\n",
    "new_train_sd['Survived'] = train['Survived']\n",
    "new_train_sd.head(3)"
   ]
  },
  {
   "cell_type": "code",
   "execution_count": 56,
   "metadata": {},
   "outputs": [
    {
     "name": "stdout",
     "output_type": "stream",
     "text": [
      "(891, 30)\n"
     ]
    },
    {
     "data": {
      "text/html": [
       "<div>\n",
       "<style scoped>\n",
       "    .dataframe tbody tr th:only-of-type {\n",
       "        vertical-align: middle;\n",
       "    }\n",
       "\n",
       "    .dataframe tbody tr th {\n",
       "        vertical-align: top;\n",
       "    }\n",
       "\n",
       "    .dataframe thead th {\n",
       "        text-align: right;\n",
       "    }\n",
       "</style>\n",
       "<table border=\"1\" class=\"dataframe\">\n",
       "  <thead>\n",
       "    <tr style=\"text-align: right;\">\n",
       "      <th></th>\n",
       "      <th>Survived</th>\n",
       "      <th>Pclass</th>\n",
       "      <th>Age</th>\n",
       "      <th>SibSp</th>\n",
       "      <th>Parch</th>\n",
       "      <th>Fare</th>\n",
       "      <th>fam_size</th>\n",
       "      <th>Alone</th>\n",
       "      <th>Married_F</th>\n",
       "      <th>fare_perp</th>\n",
       "      <th>...</th>\n",
       "      <th>Title_Titled</th>\n",
       "      <th>Deck_A</th>\n",
       "      <th>Deck_B</th>\n",
       "      <th>Deck_C</th>\n",
       "      <th>Deck_D</th>\n",
       "      <th>Deck_E</th>\n",
       "      <th>Deck_F</th>\n",
       "      <th>Deck_G</th>\n",
       "      <th>Deck_T</th>\n",
       "      <th>Deck_Z</th>\n",
       "    </tr>\n",
       "  </thead>\n",
       "  <tbody>\n",
       "    <tr>\n",
       "      <th>0</th>\n",
       "      <td>0.0</td>\n",
       "      <td>1.0</td>\n",
       "      <td>0.271174</td>\n",
       "      <td>0.125</td>\n",
       "      <td>0.0</td>\n",
       "      <td>0.014151</td>\n",
       "      <td>0.1</td>\n",
       "      <td>0.0</td>\n",
       "      <td>0.0</td>\n",
       "      <td>0.007076</td>\n",
       "      <td>...</td>\n",
       "      <td>0.0</td>\n",
       "      <td>0.0</td>\n",
       "      <td>0.0</td>\n",
       "      <td>1.0</td>\n",
       "      <td>0.0</td>\n",
       "      <td>0.0</td>\n",
       "      <td>0.0</td>\n",
       "      <td>0.0</td>\n",
       "      <td>0.0</td>\n",
       "      <td>0.0</td>\n",
       "    </tr>\n",
       "    <tr>\n",
       "      <th>1</th>\n",
       "      <td>1.0</td>\n",
       "      <td>0.0</td>\n",
       "      <td>0.472229</td>\n",
       "      <td>0.125</td>\n",
       "      <td>0.0</td>\n",
       "      <td>0.139136</td>\n",
       "      <td>0.1</td>\n",
       "      <td>0.0</td>\n",
       "      <td>1.0</td>\n",
       "      <td>0.069568</td>\n",
       "      <td>...</td>\n",
       "      <td>0.0</td>\n",
       "      <td>0.0</td>\n",
       "      <td>0.0</td>\n",
       "      <td>1.0</td>\n",
       "      <td>0.0</td>\n",
       "      <td>0.0</td>\n",
       "      <td>0.0</td>\n",
       "      <td>0.0</td>\n",
       "      <td>0.0</td>\n",
       "      <td>0.0</td>\n",
       "    </tr>\n",
       "    <tr>\n",
       "      <th>2</th>\n",
       "      <td>1.0</td>\n",
       "      <td>1.0</td>\n",
       "      <td>0.321438</td>\n",
       "      <td>0.000</td>\n",
       "      <td>0.0</td>\n",
       "      <td>0.015469</td>\n",
       "      <td>0.0</td>\n",
       "      <td>1.0</td>\n",
       "      <td>0.0</td>\n",
       "      <td>0.015469</td>\n",
       "      <td>...</td>\n",
       "      <td>0.0</td>\n",
       "      <td>0.0</td>\n",
       "      <td>0.0</td>\n",
       "      <td>1.0</td>\n",
       "      <td>0.0</td>\n",
       "      <td>0.0</td>\n",
       "      <td>0.0</td>\n",
       "      <td>0.0</td>\n",
       "      <td>0.0</td>\n",
       "      <td>0.0</td>\n",
       "    </tr>\n",
       "  </tbody>\n",
       "</table>\n",
       "<p>3 rows × 30 columns</p>\n",
       "</div>"
      ],
      "text/plain": [
       "   Survived  Pclass       Age  SibSp  Parch      Fare  fam_size  Alone  \\\n",
       "0       0.0     1.0  0.271174  0.125    0.0  0.014151       0.1    0.0   \n",
       "1       1.0     0.0  0.472229  0.125    0.0  0.139136       0.1    0.0   \n",
       "2       1.0     1.0  0.321438  0.000    0.0  0.015469       0.0    1.0   \n",
       "\n",
       "   Married_F  fare_perp  ...  Title_Titled  Deck_A  Deck_B  Deck_C  Deck_D  \\\n",
       "0        0.0   0.007076  ...           0.0     0.0     0.0     1.0     0.0   \n",
       "1        1.0   0.069568  ...           0.0     0.0     0.0     1.0     0.0   \n",
       "2        0.0   0.015469  ...           0.0     0.0     0.0     1.0     0.0   \n",
       "\n",
       "   Deck_E  Deck_F  Deck_G  Deck_T  Deck_Z  \n",
       "0     0.0     0.0     0.0     0.0     0.0  \n",
       "1     0.0     0.0     0.0     0.0     0.0  \n",
       "2     0.0     0.0     0.0     0.0     0.0  \n",
       "\n",
       "[3 rows x 30 columns]"
      ]
     },
     "execution_count": 56,
     "metadata": {},
     "output_type": "execute_result"
    }
   ],
   "source": [
    "# Use Min-Max Scaling\n",
    "minmax_scaler = MinMaxScaler()\n",
    "new_train_minmax = minmax_scaler.fit_transform(new_train)\n",
    "new_train_minmax = pd.DataFrame(new_train_minmax, columns = new_train.columns)\n",
    "print(new_train_minmax.shape)\n",
    "new_train_minmax.head(3)"
   ]
  },
  {
   "cell_type": "code",
   "execution_count": null,
   "metadata": {},
   "outputs": [],
   "source": [
    "fig, axs = plt.subplots(1, 5, figsize = (30, 6), gridspec_kw = {'wspace':0.1}, sharey = True)\n",
    "axs[0].hist(new_train_minmax['Age'])\n",
    "axs[1].hist(new_train_minmax['Fare'])\n",
    "axs[2].hist(new_train_minmax['SibSp'])\n",
    "axs[3].hist(new_train_minmax['Parch'])\n",
    "axs[4].hist(new_train_minmax['fam_size'])"
   ]
  },
  {
   "cell_type": "markdown",
   "metadata": {},
   "source": [
    "### Feature Selection"
   ]
  },
  {
   "cell_type": "code",
   "execution_count": 57,
   "metadata": {
    "collapsed": true
   },
   "outputs": [
    {
     "data": {
      "image/png": "[encoded data removed]",
      "text/plain": [
       "<Figure size 1080x216 with 3 Axes>"
      ]
     },
     "metadata": {
      "needs_background": "light"
     },
     "output_type": "display_data"
    },
    {
     "data": {
      "text/plain": [
       "<seaborn.axisgrid.FacetGrid at 0x21718ee32e8>"
      ]
     },
     "execution_count": 57,
     "metadata": {},
     "output_type": "execute_result"
    },
    {
     "data": {
      "image/png": "[encoded data removed]",
      "text/plain": [
       "<Figure size 430.5x360 with 1 Axes>"
      ]
     },
     "metadata": {
      "needs_background": "light"
     },
     "output_type": "display_data"
    },
    {
     "data": {
      "image/png": "[encoded data removed]",
      "text/plain": [
       "<Figure size 430.5x360 with 1 Axes>"
      ]
     },
     "metadata": {
      "needs_background": "light"
     },
     "output_type": "display_data"
    }
   ],
   "source": [
    "fig, axs = plt.subplots(1, 3, figsize = (15, 3), sharey = True)\n",
    "sns.barplot(train['Sex'], train['Survived'], ax = axs[0], palette = ['royalblue', 'palevioletred'])\n",
    "sns.barplot(train['fam_size'], train['Survived'], ax = axs[1], palette = \"Blues\")\n",
    "sns.barplot(train['Pclass'], train['Survived'], ax = axs[2], palette = ['orchid', 'steelblue', 'coral'])\n",
    "plt.show()\n",
    "sns.catplot(data = train, x = 'Pclass', y = 'Survived', hue = 'Sex', kind = \"bar\", \n",
    "            palette = ['royalblue', 'palevioletred'])\n",
    "sns.catplot(data = train, x = 'fam_size', y = 'Survived', hue = 'Sex', kind = \"bar\", \n",
    "            palette = ['royalblue', 'palevioletred'])"
   ]
  },
  {
   "cell_type": "code",
   "execution_count": 117,
   "metadata": {},
   "outputs": [
    {
     "name": "stdout",
     "output_type": "stream",
     "text": [
      "['Sex', 'Married_F', 'Title_Mrs', 'Title_Miss', 'Fare', 'fare_perp', 'Deck_B', 'Embarked_C', 'Deck_D', 'Deck_E', 'Embarked_S', 'Alone', 'Deck_C', 'Pclass', 'Title_Mr']\n"
     ]
    },
    {
     "name": "stderr",
     "output_type": "stream",
     "text": [
      "C:\\Users\\racco\\Anaconda3\\lib\\site-packages\\ipykernel_launcher.py:3: RuntimeWarning: invalid value encountered in greater_equal\n",
      "  This is separate from the ipykernel package so we can avoid doing imports until\n"
     ]
    }
   ],
   "source": [
    "# check correlation of columns # use 1.correlation 2.PCA to get features\n",
    "cor = new_train_sd.corr()\n",
    "high_corr = dict(cor[abs(cor['Survived'].values) >= 0.1]['Survived'].sort_values(ascending=False)[1:])\n",
    "sel_feats = list(high_corr.keys())\n",
    "print(sel_feats)"
   ]
  },
  {
   "cell_type": "code",
   "execution_count": 118,
   "metadata": {},
   "outputs": [
    {
     "name": "stdout",
     "output_type": "stream",
     "text": [
      "Shape of train x: (623, 15)\n",
      "Shape of test x: (268, 15)\n",
      "Shape of train y: (623,)\n",
      "Shape of test y: (268,)\n"
     ]
    }
   ],
   "source": [
    "x_train, x_test, y_train, y_test = train_test_split(new_train[sel_feats], \n",
    "                                                    new_train_sd['Survived'], \n",
    "                                                    test_size = 0.3, random_state = 17)\n",
    "# new_train_sd.drop('Survived', axis = 1)\n",
    "print(\"Shape of train x:\", x_train.shape)\n",
    "print(\"Shape of test x:\", x_test.shape)\n",
    "print(\"Shape of train y:\", y_train.shape)\n",
    "print(\"Shape of test y:\", y_test.shape)"
   ]
  },
  {
   "cell_type": "code",
   "execution_count": null,
   "metadata": {},
   "outputs": [],
   "source": [
    "#y_pred"
   ]
  },
  {
   "cell_type": "code",
   "execution_count": 121,
   "metadata": {},
   "outputs": [
    {
     "name": "stdout",
     "output_type": "stream",
     "text": [
      "Accuracy:  0.7947761194029851\n",
      "Precision:  0.8181818181818182\n",
      "Confusion Matrix:\n",
      " [[141  16]\n",
      " [ 39  72]]\n",
      "              precision    recall  f1-score   support\n",
      "\n",
      "           0       0.78      0.90      0.84       157\n",
      "           1       0.82      0.65      0.72       111\n",
      "\n",
      "    accuracy                           0.79       268\n",
      "   macro avg       0.80      0.77      0.78       268\n",
      "weighted avg       0.80      0.79      0.79       268\n",
      "\n"
     ]
    }
   ],
   "source": [
    "xgb = XGBClassifier(n_estimators=5, eval_metric = 'error', #'error',\n",
    "                    learning_rate = 0.7, reg_lambda = 0.4, max_depth = 3).fit(x_train, y_train)\n",
    "y_pred = xgb.predict(x_test)\n",
    "print(\"Accuracy: \", accuracy_score(y_test, y_pred))\n",
    "print(\"Precision: \", precision_score(y_test, y_pred))\n",
    "print(\"Confusion Matrix:\\n\", confusion_matrix(y_test, y_pred))\n",
    "print(classification_report(y_test, y_pred))"
   ]
  },
  {
   "cell_type": "code",
   "execution_count": 122,
   "metadata": {},
   "outputs": [
    {
     "name": "stdout",
     "output_type": "stream",
     "text": [
      "Accuracy:  0.7388059701492538\n",
      "Precision:  0.759493670886076\n",
      "Confusion Matrix:\n",
      " [[138  19]\n",
      " [ 51  60]]\n",
      "              precision    recall  f1-score   support\n",
      "\n",
      "           0       0.73      0.88      0.80       157\n",
      "           1       0.76      0.54      0.63       111\n",
      "\n",
      "    accuracy                           0.74       268\n",
      "   macro avg       0.74      0.71      0.71       268\n",
      "weighted avg       0.74      0.74      0.73       268\n",
      "\n"
     ]
    },
    {
     "name": "stderr",
     "output_type": "stream",
     "text": [
      "C:\\Users\\racco\\Anaconda3\\lib\\site-packages\\sklearn\\linear_model\\_sag.py:330: ConvergenceWarning: The max_iter was reached which means the coef_ did not converge\n",
      "  \"the coef_ did not converge\", ConvergenceWarning)\n"
     ]
    }
   ],
   "source": [
    "# elasticnet False Positive較多, accuracy不高但precision高\n",
    "clf = LogisticRegression(solver='saga', penalty='elasticnet', C=0.8, l1_ratio=0.5,\n",
    "                         random_state=0, class_weight=\"balanced\", max_iter=600).fit(x_train, y_train)\n",
    "# penalty: 'l1', 'l2', 'elasticnet'; solver:'liblinear', 'saga'\n",
    "y_pred = clf.predict(x_test)\n",
    "print(\"Accuracy: \", accuracy_score(y_test, y_pred))\n",
    "print(\"Precision: \", precision_score(y_test, y_pred))\n",
    "print(\"Confusion Matrix:\\n\", confusion_matrix(y_test, y_pred))\n",
    "print(classification_report(y_test, y_pred))"
   ]
  },
  {
   "cell_type": "code",
   "execution_count": 124,
   "metadata": {},
   "outputs": [
    {
     "name": "stdout",
     "output_type": "stream",
     "text": [
      "Accuracy:  0.753731343283582\n",
      "Precision:  0.7184466019417476\n",
      "Confusion Matrix:\n",
      " [[128  29]\n",
      " [ 37  74]]\n",
      "              precision    recall  f1-score   support\n",
      "\n",
      "           0       0.78      0.82      0.80       157\n",
      "           1       0.72      0.67      0.69       111\n",
      "\n",
      "    accuracy                           0.75       268\n",
      "   macro avg       0.75      0.74      0.74       268\n",
      "weighted avg       0.75      0.75      0.75       268\n",
      "\n"
     ]
    }
   ],
   "source": [
    "svclassifier = SVC(C=0.5, kernel='linear', class_weight=None)#\"balanced\") #'sigmoid', 'poly', 'rbf', 'linear'\n",
    "svclassifier.fit(x_train, y_train)\n",
    "y_pred = svclassifier.predict(x_test)\n",
    "print(\"Accuracy: \", accuracy_score(y_test, y_pred))\n",
    "print(\"Precision: \", precision_score(y_test, y_pred))\n",
    "print(\"Confusion Matrix:\\n\", confusion_matrix(y_test, y_pred))\n",
    "print(classification_report(y_test, y_pred))\n"
   ]
  },
  {
   "cell_type": "code",
   "execution_count": 23,
   "metadata": {},
   "outputs": [
    {
     "data": {
      "text/html": [
       "<div>\n",
       "<style scoped>\n",
       "    .dataframe tbody tr th:only-of-type {\n",
       "        vertical-align: middle;\n",
       "    }\n",
       "\n",
       "    .dataframe tbody tr th {\n",
       "        vertical-align: top;\n",
       "    }\n",
       "\n",
       "    .dataframe thead th {\n",
       "        text-align: right;\n",
       "    }\n",
       "</style>\n",
       "<table border=\"1\" class=\"dataframe\">\n",
       "  <thead>\n",
       "    <tr style=\"text-align: right;\">\n",
       "      <th></th>\n",
       "      <th>PassengerId</th>\n",
       "      <th>Pclass</th>\n",
       "      <th>Name</th>\n",
       "      <th>Sex</th>\n",
       "      <th>Age</th>\n",
       "      <th>SibSp</th>\n",
       "      <th>Parch</th>\n",
       "      <th>Ticket</th>\n",
       "      <th>Fare</th>\n",
       "      <th>Cabin</th>\n",
       "      <th>Embarked</th>\n",
       "    </tr>\n",
       "  </thead>\n",
       "  <tbody>\n",
       "    <tr>\n",
       "      <th>0</th>\n",
       "      <td>892</td>\n",
       "      <td>3</td>\n",
       "      <td>Kelly, Mr. James</td>\n",
       "      <td>male</td>\n",
       "      <td>34.5</td>\n",
       "      <td>0</td>\n",
       "      <td>0</td>\n",
       "      <td>330911</td>\n",
       "      <td>7.8292</td>\n",
       "      <td>NaN</td>\n",
       "      <td>Q</td>\n",
       "    </tr>\n",
       "  </tbody>\n",
       "</table>\n",
       "</div>"
      ],
      "text/plain": [
       "   PassengerId  Pclass              Name   Sex   Age  SibSp  Parch  Ticket  \\\n",
       "0          892       3  Kelly, Mr. James  male  34.5      0      0  330911   \n",
       "\n",
       "     Fare Cabin Embarked  \n",
       "0  7.8292   NaN        Q  "
      ]
     },
     "execution_count": 23,
     "metadata": {},
     "output_type": "execute_result"
    }
   ],
   "source": [
    "test.head(1)"
   ]
  },
  {
   "cell_type": "code",
   "execution_count": 83,
   "metadata": {},
   "outputs": [
    {
     "name": "stdout",
     "output_type": "stream",
     "text": [
      "Age: Empty DataFrame\n",
      "Columns: [PassengerId, Pclass, Name, Sex, Age, SibSp, Parch, Ticket, Fare, Cabin, Embarked, Title, fam_size, Alone, Married_F, Deck, fare_perp]\n",
      "Index: []\n"
     ]
    }
   ],
   "source": [
    "# test.isnull().sum() # Age, Fare, Cabin --> fillna\n",
    "'''人名/稱謂'''\n",
    "test['Title'] = test.Name.str.split(', ').str[1].str.split('.').str[0].str.strip()\n",
    "test['Title'] = test['Title'].replace({'Ms':'Miss', 'Mlle':'Miss', 'Mme':'Mrs', \n",
    "                                         'Rev':'Titled', 'Don':'Titled', 'Dona':'Titled', \n",
    "                                         'Jonkheer':'Titled'})\n",
    "'''個人&家庭狀況'''\n",
    "test['fam_size'] = test['SibSp'] + test['Parch'] + 1\n",
    "test['Alone'] = (test['fam_size']==1)\n",
    "test['Alone'] = test['Alone'].astype(int)\n",
    "test['Married_F'] = (test['Title'] != 'Miss') & (test['Sex'] == 'female')\n",
    "#df_train['Married_F'] = df_train['Married_F'].astype(int)\n",
    "#df_train['fam_Class'] = df_train['fam_size'] * df_train['Pclass']\n",
    "\n",
    "'''住宿'''\n",
    "test['Deck'] = test['Cabin'].str.slice(0, 1)\n",
    "test['Deck'] = pd.Categorical(test['Deck'], categories = ['A', 'B', 'C', 'D', 'E', 'F', 'G', 'T', 'Z'])\n",
    "test['Deck'] = test['Deck'].fillna(statistics.mode(test['Deck'].dropna()))\n",
    "print(\"Deck:\", test['Deck'].isnull().sum())\n",
    "\n",
    "'''經濟狀況'''\n",
    "test['Fare'] = test['Fare'].fillna(np.mean(test[test['Pclass']==3]['Fare']))\n",
    "test['fare_perp'] = test['Fare']/test['fam_size']\n",
    "for ind, row in test.iterrows():\n",
    "    if ind % 100 == 0:\n",
    "        clear_output(True)\n",
    "    if pd.isna(test.loc[ind, 'Age']):\n",
    "        if test.loc[ind, 'fam_size'] <= 8:\n",
    "            #print(ind)\n",
    "            famsize = test.loc[ind, 'fam_size']\n",
    "            same_group = test[test['fam_size'] == famsize]\n",
    "            age_mean = np.mean(same_group['Age'])\n",
    "            test.loc[ind, 'Age'] = age_mean\n",
    "        else:\n",
    "            same_group = test[test['fam_size'] == 8]\n",
    "            age_mean = np.mean(same_group['Age'])\n",
    "            test.loc[ind, 'Age'] = age_mean\n",
    "print(\"Age:\", test[test['Age'].isnull()])"
   ]
  },
  {
   "cell_type": "code",
   "execution_count": 84,
   "metadata": {},
   "outputs": [
    {
     "name": "stdout",
     "output_type": "stream",
     "text": [
      "(418, 13)\n",
      "Index(['Sex', 'Embarked', 'Title', 'Deck'], dtype='object')\n",
      "(418, 30)\n",
      "['Title_Col', 'Title_Dr', 'Title_Master', 'Title_Miss', 'Title_Mr', 'Title_Mrs', 'Title_Titled']\n"
     ]
    },
    {
     "data": {
      "text/html": [
       "<div>\n",
       "<style scoped>\n",
       "    .dataframe tbody tr th:only-of-type {\n",
       "        vertical-align: middle;\n",
       "    }\n",
       "\n",
       "    .dataframe tbody tr th {\n",
       "        vertical-align: top;\n",
       "    }\n",
       "\n",
       "    .dataframe thead th {\n",
       "        text-align: right;\n",
       "    }\n",
       "</style>\n",
       "<table border=\"1\" class=\"dataframe\">\n",
       "  <thead>\n",
       "    <tr style=\"text-align: right;\">\n",
       "      <th></th>\n",
       "      <th>Pclass</th>\n",
       "      <th>Age</th>\n",
       "      <th>SibSp</th>\n",
       "      <th>Parch</th>\n",
       "      <th>Fare</th>\n",
       "      <th>fam_size</th>\n",
       "      <th>Alone</th>\n",
       "      <th>Married_F</th>\n",
       "      <th>fare_perp</th>\n",
       "      <th>Sex</th>\n",
       "      <th>...</th>\n",
       "      <th>Title_Titled</th>\n",
       "      <th>Deck_A</th>\n",
       "      <th>Deck_B</th>\n",
       "      <th>Deck_C</th>\n",
       "      <th>Deck_D</th>\n",
       "      <th>Deck_E</th>\n",
       "      <th>Deck_F</th>\n",
       "      <th>Deck_G</th>\n",
       "      <th>Deck_T</th>\n",
       "      <th>Deck_Z</th>\n",
       "    </tr>\n",
       "  </thead>\n",
       "  <tbody>\n",
       "    <tr>\n",
       "      <th>0</th>\n",
       "      <td>3</td>\n",
       "      <td>34.5</td>\n",
       "      <td>0</td>\n",
       "      <td>0</td>\n",
       "      <td>7.8292</td>\n",
       "      <td>1</td>\n",
       "      <td>1</td>\n",
       "      <td>False</td>\n",
       "      <td>7.8292</td>\n",
       "      <td>0</td>\n",
       "      <td>...</td>\n",
       "      <td>0</td>\n",
       "      <td>0</td>\n",
       "      <td>0</td>\n",
       "      <td>1</td>\n",
       "      <td>0</td>\n",
       "      <td>0</td>\n",
       "      <td>0</td>\n",
       "      <td>0</td>\n",
       "      <td>0</td>\n",
       "      <td>0</td>\n",
       "    </tr>\n",
       "    <tr>\n",
       "      <th>1</th>\n",
       "      <td>3</td>\n",
       "      <td>47.0</td>\n",
       "      <td>1</td>\n",
       "      <td>0</td>\n",
       "      <td>7.0000</td>\n",
       "      <td>2</td>\n",
       "      <td>0</td>\n",
       "      <td>True</td>\n",
       "      <td>3.5000</td>\n",
       "      <td>1</td>\n",
       "      <td>...</td>\n",
       "      <td>0</td>\n",
       "      <td>0</td>\n",
       "      <td>0</td>\n",
       "      <td>1</td>\n",
       "      <td>0</td>\n",
       "      <td>0</td>\n",
       "      <td>0</td>\n",
       "      <td>0</td>\n",
       "      <td>0</td>\n",
       "      <td>0</td>\n",
       "    </tr>\n",
       "    <tr>\n",
       "      <th>2</th>\n",
       "      <td>2</td>\n",
       "      <td>62.0</td>\n",
       "      <td>0</td>\n",
       "      <td>0</td>\n",
       "      <td>9.6875</td>\n",
       "      <td>1</td>\n",
       "      <td>1</td>\n",
       "      <td>False</td>\n",
       "      <td>9.6875</td>\n",
       "      <td>0</td>\n",
       "      <td>...</td>\n",
       "      <td>0</td>\n",
       "      <td>0</td>\n",
       "      <td>0</td>\n",
       "      <td>1</td>\n",
       "      <td>0</td>\n",
       "      <td>0</td>\n",
       "      <td>0</td>\n",
       "      <td>0</td>\n",
       "      <td>0</td>\n",
       "      <td>0</td>\n",
       "    </tr>\n",
       "  </tbody>\n",
       "</table>\n",
       "<p>3 rows × 29 columns</p>\n",
       "</div>"
      ],
      "text/plain": [
       "   Pclass   Age  SibSp  Parch    Fare  fam_size  Alone  Married_F  fare_perp  \\\n",
       "0       3  34.5      0      0  7.8292         1      1      False     7.8292   \n",
       "1       3  47.0      1      0  7.0000         2      0       True     3.5000   \n",
       "2       2  62.0      0      0  9.6875         1      1      False     9.6875   \n",
       "\n",
       "   Sex  ...  Title_Titled  Deck_A  Deck_B  Deck_C  Deck_D  Deck_E  Deck_F  \\\n",
       "0    0  ...             0       0       0       1       0       0       0   \n",
       "1    1  ...             0       0       0       1       0       0       0   \n",
       "2    0  ...             0       0       0       1       0       0       0   \n",
       "\n",
       "   Deck_G  Deck_T  Deck_Z  \n",
       "0       0       0       0  \n",
       "1       0       0       0  \n",
       "2       0       0       0  \n",
       "\n",
       "[3 rows x 29 columns]"
      ]
     },
     "execution_count": 84,
     "metadata": {},
     "output_type": "execute_result"
    }
   ],
   "source": [
    "new_test = test.drop(['Ticket', 'Cabin', 'Name', 'PassengerId'], axis = 1)\n",
    "print(new_test.shape)\n",
    "numeric = new_test.select_dtypes(include=np.number).columns\n",
    "category = new_test.select_dtypes(include=['object', 'category']).columns\n",
    "print(category)\n",
    "new_test = pd.get_dummies(new_test, columns = list(category), dummy_na = False, drop_first = False)\n",
    "print(new_test.shape)\n",
    "print([x for x in new_test.columns if x.startswith(\"Title\")])\n",
    "new_test = new_test.drop(['Sex_male'], axis = 1)\n",
    "new_test = new_test.rename(columns = {'Sex_female':'Sex'})\n",
    "new_test.head(3)"
   ]
  },
  {
   "cell_type": "code",
   "execution_count": 85,
   "metadata": {},
   "outputs": [
    {
     "name": "stdout",
     "output_type": "stream",
     "text": [
      "(418, 29)\n",
      "(418, 29)\n"
     ]
    },
    {
     "data": {
      "text/html": [
       "<div>\n",
       "<style scoped>\n",
       "    .dataframe tbody tr th:only-of-type {\n",
       "        vertical-align: middle;\n",
       "    }\n",
       "\n",
       "    .dataframe tbody tr th {\n",
       "        vertical-align: top;\n",
       "    }\n",
       "\n",
       "    .dataframe thead th {\n",
       "        text-align: right;\n",
       "    }\n",
       "</style>\n",
       "<table border=\"1\" class=\"dataframe\">\n",
       "  <thead>\n",
       "    <tr style=\"text-align: right;\">\n",
       "      <th></th>\n",
       "      <th>Pclass</th>\n",
       "      <th>Age</th>\n",
       "      <th>SibSp</th>\n",
       "      <th>Parch</th>\n",
       "      <th>Fare</th>\n",
       "      <th>fam_size</th>\n",
       "      <th>Alone</th>\n",
       "      <th>Married_F</th>\n",
       "      <th>fare_perp</th>\n",
       "      <th>Sex</th>\n",
       "      <th>...</th>\n",
       "      <th>Title_Titled</th>\n",
       "      <th>Deck_A</th>\n",
       "      <th>Deck_B</th>\n",
       "      <th>Deck_C</th>\n",
       "      <th>Deck_D</th>\n",
       "      <th>Deck_E</th>\n",
       "      <th>Deck_F</th>\n",
       "      <th>Deck_G</th>\n",
       "      <th>Deck_T</th>\n",
       "      <th>Deck_Z</th>\n",
       "    </tr>\n",
       "  </thead>\n",
       "  <tbody>\n",
       "    <tr>\n",
       "      <th>0</th>\n",
       "      <td>1.0</td>\n",
       "      <td>0.452723</td>\n",
       "      <td>0.000</td>\n",
       "      <td>0.0</td>\n",
       "      <td>0.015282</td>\n",
       "      <td>0.0</td>\n",
       "      <td>1.0</td>\n",
       "      <td>0.0</td>\n",
       "      <td>0.029840</td>\n",
       "      <td>0.0</td>\n",
       "      <td>...</td>\n",
       "      <td>0.0</td>\n",
       "      <td>0.0</td>\n",
       "      <td>0.0</td>\n",
       "      <td>1.0</td>\n",
       "      <td>0.0</td>\n",
       "      <td>0.0</td>\n",
       "      <td>0.0</td>\n",
       "      <td>0.0</td>\n",
       "      <td>0.0</td>\n",
       "      <td>0.0</td>\n",
       "    </tr>\n",
       "    <tr>\n",
       "      <th>1</th>\n",
       "      <td>1.0</td>\n",
       "      <td>0.617566</td>\n",
       "      <td>0.125</td>\n",
       "      <td>0.0</td>\n",
       "      <td>0.013663</td>\n",
       "      <td>0.1</td>\n",
       "      <td>0.0</td>\n",
       "      <td>1.0</td>\n",
       "      <td>0.013340</td>\n",
       "      <td>1.0</td>\n",
       "      <td>...</td>\n",
       "      <td>0.0</td>\n",
       "      <td>0.0</td>\n",
       "      <td>0.0</td>\n",
       "      <td>1.0</td>\n",
       "      <td>0.0</td>\n",
       "      <td>0.0</td>\n",
       "      <td>0.0</td>\n",
       "      <td>0.0</td>\n",
       "      <td>0.0</td>\n",
       "      <td>0.0</td>\n",
       "    </tr>\n",
       "    <tr>\n",
       "      <th>2</th>\n",
       "      <td>0.5</td>\n",
       "      <td>0.815377</td>\n",
       "      <td>0.000</td>\n",
       "      <td>0.0</td>\n",
       "      <td>0.018909</td>\n",
       "      <td>0.0</td>\n",
       "      <td>1.0</td>\n",
       "      <td>0.0</td>\n",
       "      <td>0.036922</td>\n",
       "      <td>0.0</td>\n",
       "      <td>...</td>\n",
       "      <td>0.0</td>\n",
       "      <td>0.0</td>\n",
       "      <td>0.0</td>\n",
       "      <td>1.0</td>\n",
       "      <td>0.0</td>\n",
       "      <td>0.0</td>\n",
       "      <td>0.0</td>\n",
       "      <td>0.0</td>\n",
       "      <td>0.0</td>\n",
       "      <td>0.0</td>\n",
       "    </tr>\n",
       "  </tbody>\n",
       "</table>\n",
       "<p>3 rows × 29 columns</p>\n",
       "</div>"
      ],
      "text/plain": [
       "   Pclass       Age  SibSp  Parch      Fare  fam_size  Alone  Married_F  \\\n",
       "0     1.0  0.452723  0.000    0.0  0.015282       0.0    1.0        0.0   \n",
       "1     1.0  0.617566  0.125    0.0  0.013663       0.1    0.0        1.0   \n",
       "2     0.5  0.815377  0.000    0.0  0.018909       0.0    1.0        0.0   \n",
       "\n",
       "   fare_perp  Sex  ...  Title_Titled  Deck_A  Deck_B  Deck_C  Deck_D  Deck_E  \\\n",
       "0   0.029840  0.0  ...           0.0     0.0     0.0     1.0     0.0     0.0   \n",
       "1   0.013340  1.0  ...           0.0     0.0     0.0     1.0     0.0     0.0   \n",
       "2   0.036922  0.0  ...           0.0     0.0     0.0     1.0     0.0     0.0   \n",
       "\n",
       "   Deck_F  Deck_G  Deck_T  Deck_Z  \n",
       "0     0.0     0.0     0.0     0.0  \n",
       "1     0.0     0.0     0.0     0.0  \n",
       "2     0.0     0.0     0.0     0.0  \n",
       "\n",
       "[3 rows x 29 columns]"
      ]
     },
     "execution_count": 85,
     "metadata": {},
     "output_type": "execute_result"
    }
   ],
   "source": [
    "# Use Standardized Scaling\n",
    "new_test_sd = stand_scaler.fit_transform(new_test)\n",
    "new_test_sd = pd.DataFrame(new_test_sd, columns = new_test.columns)\n",
    "print(new_test_sd.shape)\n",
    "new_test_sd.head(3)\n",
    "\n",
    "# Use Min-Max Scaling\n",
    "new_test_minmax = minmax_scaler.fit_transform(new_test)\n",
    "new_test_minmax = pd.DataFrame(new_test_minmax, columns = new_test.columns)\n",
    "print(new_test_minmax.shape)\n",
    "new_test_minmax.head(3)"
   ]
  },
  {
   "cell_type": "code",
   "execution_count": 91,
   "metadata": {},
   "outputs": [
    {
     "name": "stdout",
     "output_type": "stream",
     "text": [
      "(418, 19)\n"
     ]
    },
    {
     "data": {
      "text/html": [
       "<div>\n",
       "<style scoped>\n",
       "    .dataframe tbody tr th:only-of-type {\n",
       "        vertical-align: middle;\n",
       "    }\n",
       "\n",
       "    .dataframe tbody tr th {\n",
       "        vertical-align: top;\n",
       "    }\n",
       "\n",
       "    .dataframe thead th {\n",
       "        text-align: right;\n",
       "    }\n",
       "</style>\n",
       "<table border=\"1\" class=\"dataframe\">\n",
       "  <thead>\n",
       "    <tr style=\"text-align: right;\">\n",
       "      <th></th>\n",
       "      <th>Sex</th>\n",
       "      <th>Married_F</th>\n",
       "      <th>Title_Mrs</th>\n",
       "      <th>Title_Miss</th>\n",
       "      <th>Fare</th>\n",
       "      <th>fare_perp</th>\n",
       "      <th>Deck_B</th>\n",
       "      <th>Embarked_C</th>\n",
       "      <th>Deck_D</th>\n",
       "      <th>Deck_E</th>\n",
       "      <th>Title_Master</th>\n",
       "      <th>Parch</th>\n",
       "      <th>Deck_F</th>\n",
       "      <th>Age</th>\n",
       "      <th>Embarked_S</th>\n",
       "      <th>Alone</th>\n",
       "      <th>Deck_C</th>\n",
       "      <th>Pclass</th>\n",
       "      <th>Title_Mr</th>\n",
       "    </tr>\n",
       "  </thead>\n",
       "  <tbody>\n",
       "    <tr>\n",
       "      <th>0</th>\n",
       "      <td>0</td>\n",
       "      <td>False</td>\n",
       "      <td>0</td>\n",
       "      <td>0</td>\n",
       "      <td>7.8292</td>\n",
       "      <td>7.8292</td>\n",
       "      <td>0</td>\n",
       "      <td>0</td>\n",
       "      <td>0</td>\n",
       "      <td>0</td>\n",
       "      <td>0</td>\n",
       "      <td>0</td>\n",
       "      <td>0</td>\n",
       "      <td>34.5</td>\n",
       "      <td>0</td>\n",
       "      <td>1</td>\n",
       "      <td>1</td>\n",
       "      <td>3</td>\n",
       "      <td>1</td>\n",
       "    </tr>\n",
       "    <tr>\n",
       "      <th>1</th>\n",
       "      <td>1</td>\n",
       "      <td>True</td>\n",
       "      <td>1</td>\n",
       "      <td>0</td>\n",
       "      <td>7.0000</td>\n",
       "      <td>3.5000</td>\n",
       "      <td>0</td>\n",
       "      <td>0</td>\n",
       "      <td>0</td>\n",
       "      <td>0</td>\n",
       "      <td>0</td>\n",
       "      <td>0</td>\n",
       "      <td>0</td>\n",
       "      <td>47.0</td>\n",
       "      <td>1</td>\n",
       "      <td>0</td>\n",
       "      <td>1</td>\n",
       "      <td>3</td>\n",
       "      <td>0</td>\n",
       "    </tr>\n",
       "    <tr>\n",
       "      <th>2</th>\n",
       "      <td>0</td>\n",
       "      <td>False</td>\n",
       "      <td>0</td>\n",
       "      <td>0</td>\n",
       "      <td>9.6875</td>\n",
       "      <td>9.6875</td>\n",
       "      <td>0</td>\n",
       "      <td>0</td>\n",
       "      <td>0</td>\n",
       "      <td>0</td>\n",
       "      <td>0</td>\n",
       "      <td>0</td>\n",
       "      <td>0</td>\n",
       "      <td>62.0</td>\n",
       "      <td>0</td>\n",
       "      <td>1</td>\n",
       "      <td>1</td>\n",
       "      <td>2</td>\n",
       "      <td>1</td>\n",
       "    </tr>\n",
       "  </tbody>\n",
       "</table>\n",
       "</div>"
      ],
      "text/plain": [
       "   Sex  Married_F  Title_Mrs  Title_Miss    Fare  fare_perp  Deck_B  \\\n",
       "0    0      False          0           0  7.8292     7.8292       0   \n",
       "1    1       True          1           0  7.0000     3.5000       0   \n",
       "2    0      False          0           0  9.6875     9.6875       0   \n",
       "\n",
       "   Embarked_C  Deck_D  Deck_E  Title_Master  Parch  Deck_F   Age  Embarked_S  \\\n",
       "0           0       0       0             0      0       0  34.5           0   \n",
       "1           0       0       0             0      0       0  47.0           1   \n",
       "2           0       0       0             0      0       0  62.0           0   \n",
       "\n",
       "   Alone  Deck_C  Pclass  Title_Mr  \n",
       "0      1       1       3         1  \n",
       "1      0       1       3         0  \n",
       "2      1       1       2         1  "
      ]
     },
     "execution_count": 91,
     "metadata": {},
     "output_type": "execute_result"
    }
   ],
   "source": [
    "#print(new_train.columns, new_train.shape[1]) \n",
    "#print(new_test.columns) \n",
    "#missing_cols = ['Title_Capt', 'Title_Lady', 'Title_Major', 'Title_Sir', 'Title_the Countess']\n",
    "#for i in range(len(missing_cols)):\n",
    " #   new_test[missing_cols[i]] = 0\n",
    "new_test = new_test[sel_feats]\n",
    "#new_test = new_test[x_train.columns]\n",
    "print(new_test.shape)\n",
    "new_test.head(3)"
   ]
  },
  {
   "cell_type": "code",
   "execution_count": 95,
   "metadata": {},
   "outputs": [
    {
     "ename": "ValueError",
     "evalue": "X has 19 features per sample; expecting 29",
     "output_type": "error",
     "traceback": [
      "\u001b[1;31m---------------------------------------------------------------------------\u001b[0m",
      "\u001b[1;31mValueError\u001b[0m                                Traceback (most recent call last)",
      "\u001b[1;32m<ipython-input-95-560a72fdc834>\u001b[0m in \u001b[0;36m<module>\u001b[1;34m\u001b[0m\n\u001b[1;32m----> 1\u001b[1;33m \u001b[0mtest_pred\u001b[0m \u001b[1;33m=\u001b[0m \u001b[0mclf\u001b[0m\u001b[1;33m.\u001b[0m\u001b[0mpredict\u001b[0m\u001b[1;33m(\u001b[0m\u001b[0mnew_test\u001b[0m\u001b[1;33m)\u001b[0m\u001b[1;31m#xgb.predict(new_test)\u001b[0m\u001b[1;33m\u001b[0m\u001b[1;33m\u001b[0m\u001b[0m\n\u001b[0m\u001b[0;32m      2\u001b[0m \u001b[0mtest_pred\u001b[0m\u001b[1;33m\u001b[0m\u001b[1;33m\u001b[0m\u001b[0m\n",
      "\u001b[1;32m~\\Anaconda3\\lib\\site-packages\\sklearn\\linear_model\\_base.py\u001b[0m in \u001b[0;36mpredict\u001b[1;34m(self, X)\u001b[0m\n\u001b[0;32m    291\u001b[0m             \u001b[0mPredicted\u001b[0m \u001b[1;32mclass\u001b[0m \u001b[0mlabel\u001b[0m \u001b[0mper\u001b[0m \u001b[0msample\u001b[0m\u001b[1;33m.\u001b[0m\u001b[1;33m\u001b[0m\u001b[1;33m\u001b[0m\u001b[0m\n\u001b[0;32m    292\u001b[0m         \"\"\"\n\u001b[1;32m--> 293\u001b[1;33m         \u001b[0mscores\u001b[0m \u001b[1;33m=\u001b[0m \u001b[0mself\u001b[0m\u001b[1;33m.\u001b[0m\u001b[0mdecision_function\u001b[0m\u001b[1;33m(\u001b[0m\u001b[0mX\u001b[0m\u001b[1;33m)\u001b[0m\u001b[1;33m\u001b[0m\u001b[1;33m\u001b[0m\u001b[0m\n\u001b[0m\u001b[0;32m    294\u001b[0m         \u001b[1;32mif\u001b[0m \u001b[0mlen\u001b[0m\u001b[1;33m(\u001b[0m\u001b[0mscores\u001b[0m\u001b[1;33m.\u001b[0m\u001b[0mshape\u001b[0m\u001b[1;33m)\u001b[0m \u001b[1;33m==\u001b[0m \u001b[1;36m1\u001b[0m\u001b[1;33m:\u001b[0m\u001b[1;33m\u001b[0m\u001b[1;33m\u001b[0m\u001b[0m\n\u001b[0;32m    295\u001b[0m             \u001b[0mindices\u001b[0m \u001b[1;33m=\u001b[0m \u001b[1;33m(\u001b[0m\u001b[0mscores\u001b[0m \u001b[1;33m>\u001b[0m \u001b[1;36m0\u001b[0m\u001b[1;33m)\u001b[0m\u001b[1;33m.\u001b[0m\u001b[0mastype\u001b[0m\u001b[1;33m(\u001b[0m\u001b[0mnp\u001b[0m\u001b[1;33m.\u001b[0m\u001b[0mint\u001b[0m\u001b[1;33m)\u001b[0m\u001b[1;33m\u001b[0m\u001b[1;33m\u001b[0m\u001b[0m\n",
      "\u001b[1;32m~\\Anaconda3\\lib\\site-packages\\sklearn\\linear_model\\_base.py\u001b[0m in \u001b[0;36mdecision_function\u001b[1;34m(self, X)\u001b[0m\n\u001b[0;32m    271\u001b[0m         \u001b[1;32mif\u001b[0m \u001b[0mX\u001b[0m\u001b[1;33m.\u001b[0m\u001b[0mshape\u001b[0m\u001b[1;33m[\u001b[0m\u001b[1;36m1\u001b[0m\u001b[1;33m]\u001b[0m \u001b[1;33m!=\u001b[0m \u001b[0mn_features\u001b[0m\u001b[1;33m:\u001b[0m\u001b[1;33m\u001b[0m\u001b[1;33m\u001b[0m\u001b[0m\n\u001b[0;32m    272\u001b[0m             raise ValueError(\"X has %d features per sample; expecting %d\"\n\u001b[1;32m--> 273\u001b[1;33m                              % (X.shape[1], n_features))\n\u001b[0m\u001b[0;32m    274\u001b[0m \u001b[1;33m\u001b[0m\u001b[0m\n\u001b[0;32m    275\u001b[0m         scores = safe_sparse_dot(X, self.coef_.T,\n",
      "\u001b[1;31mValueError\u001b[0m: X has 19 features per sample; expecting 29"
     ]
    }
   ],
   "source": [
    "test_pred = clf.predict(new_test)#xgb.predict(new_test)\n",
    "test_pred"
   ]
  },
  {
   "cell_type": "code",
   "execution_count": 89,
   "metadata": {},
   "outputs": [
    {
     "data": {
      "text/html": [
       "<div>\n",
       "<style scoped>\n",
       "    .dataframe tbody tr th:only-of-type {\n",
       "        vertical-align: middle;\n",
       "    }\n",
       "\n",
       "    .dataframe tbody tr th {\n",
       "        vertical-align: top;\n",
       "    }\n",
       "\n",
       "    .dataframe thead th {\n",
       "        text-align: right;\n",
       "    }\n",
       "</style>\n",
       "<table border=\"1\" class=\"dataframe\">\n",
       "  <thead>\n",
       "    <tr style=\"text-align: right;\">\n",
       "      <th></th>\n",
       "      <th>PassengerId</th>\n",
       "      <th>Survived</th>\n",
       "    </tr>\n",
       "  </thead>\n",
       "  <tbody>\n",
       "    <tr>\n",
       "      <th>0</th>\n",
       "      <td>892</td>\n",
       "      <td>0</td>\n",
       "    </tr>\n",
       "    <tr>\n",
       "      <th>1</th>\n",
       "      <td>893</td>\n",
       "      <td>0</td>\n",
       "    </tr>\n",
       "    <tr>\n",
       "      <th>2</th>\n",
       "      <td>894</td>\n",
       "      <td>0</td>\n",
       "    </tr>\n",
       "  </tbody>\n",
       "</table>\n",
       "</div>"
      ],
      "text/plain": [
       "   PassengerId  Survived\n",
       "0          892         0\n",
       "1          893         0\n",
       "2          894         0"
      ]
     },
     "execution_count": 89,
     "metadata": {},
     "output_type": "execute_result"
    }
   ],
   "source": [
    "submission = pd.DataFrame(columns = ['PassengerId', 'Survived'])\n",
    "submission['PassengerId'] = test['PassengerId']\n",
    "submission['Survived'] = test_pred\n",
    "submission.head(3)"
   ]
  },
  {
   "cell_type": "code",
   "execution_count": 94,
   "metadata": {},
   "outputs": [],
   "source": [
    "submission.to_csv('submission.csv', index = False)"
   ]
  }
 ],
 "metadata": {
  "kernelspec": {
   "display_name": "Python 3",
   "language": "python",
   "name": "python3"
  },
  "language_info": {
   "codemirror_mode": {
    "name": "ipython",
    "version": 3
   },
   "file_extension": ".py",
   "mimetype": "text/x-python",
   "name": "python",
   "nbconvert_exporter": "python",
   "pygments_lexer": "ipython3",
   "version": "3.6.10"
  }
 },
 "nbformat": 4,
 "nbformat_minor": 2
}
